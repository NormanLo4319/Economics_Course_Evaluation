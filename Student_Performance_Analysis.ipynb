{
 "cells": [
  {
   "cell_type": "markdown",
   "metadata": {},
   "source": [
    "# Student Performance Analysis"
   ]
  },
  {
   "cell_type": "code",
   "execution_count": 1,
   "metadata": {},
   "outputs": [],
   "source": [
    "import pandas as pd\n",
    "import numpy as np\n",
    "import scipy as sp\n",
    "import matplotlib.pyplot as plt\n",
    "import seaborn as sns\n",
    "sns.set(style=\"ticks\", color_codes=True)\n",
    "from statsmodels.graphics.mosaicplot import mosaic\n",
    "%matplotlib inline"
   ]
  },
  {
   "cell_type": "code",
   "execution_count": 2,
   "metadata": {},
   "outputs": [
    {
     "data": {
      "text/html": [
       "<div>\n",
       "<style scoped>\n",
       "    .dataframe tbody tr th:only-of-type {\n",
       "        vertical-align: middle;\n",
       "    }\n",
       "\n",
       "    .dataframe tbody tr th {\n",
       "        vertical-align: top;\n",
       "    }\n",
       "\n",
       "    .dataframe thead th {\n",
       "        text-align: right;\n",
       "    }\n",
       "</style>\n",
       "<table border=\"1\" class=\"dataframe\">\n",
       "  <thead>\n",
       "    <tr style=\"text-align: right;\">\n",
       "      <th></th>\n",
       "      <th>id</th>\n",
       "      <th>Final</th>\n",
       "      <th>Attend</th>\n",
       "      <th>Year</th>\n",
       "      <th>Semester</th>\n",
       "      <th>Class</th>\n",
       "      <th>Platform</th>\n",
       "    </tr>\n",
       "  </thead>\n",
       "  <tbody>\n",
       "    <tr>\n",
       "      <th>0</th>\n",
       "      <td>80001</td>\n",
       "      <td>0.966818</td>\n",
       "      <td>1.00</td>\n",
       "      <td>2016.0</td>\n",
       "      <td>Spring</td>\n",
       "      <td>102.0</td>\n",
       "      <td>Aplia</td>\n",
       "    </tr>\n",
       "    <tr>\n",
       "      <th>1</th>\n",
       "      <td>99036</td>\n",
       "      <td>0.729091</td>\n",
       "      <td>0.72</td>\n",
       "      <td>2016.0</td>\n",
       "      <td>Spring</td>\n",
       "      <td>102.0</td>\n",
       "      <td>Aplia</td>\n",
       "    </tr>\n",
       "    <tr>\n",
       "      <th>2</th>\n",
       "      <td>80524</td>\n",
       "      <td>0.854773</td>\n",
       "      <td>1.00</td>\n",
       "      <td>2016.0</td>\n",
       "      <td>Spring</td>\n",
       "      <td>102.0</td>\n",
       "      <td>Aplia</td>\n",
       "    </tr>\n",
       "    <tr>\n",
       "      <th>3</th>\n",
       "      <td>84246</td>\n",
       "      <td>0.596591</td>\n",
       "      <td>0.80</td>\n",
       "      <td>2016.0</td>\n",
       "      <td>Spring</td>\n",
       "      <td>102.0</td>\n",
       "      <td>Aplia</td>\n",
       "    </tr>\n",
       "    <tr>\n",
       "      <th>4</th>\n",
       "      <td>28180</td>\n",
       "      <td>0.689091</td>\n",
       "      <td>0.96</td>\n",
       "      <td>2016.0</td>\n",
       "      <td>Spring</td>\n",
       "      <td>102.0</td>\n",
       "      <td>Aplia</td>\n",
       "    </tr>\n",
       "  </tbody>\n",
       "</table>\n",
       "</div>"
      ],
      "text/plain": [
       "      id     Final  Attend    Year Semester  Class Platform\n",
       "0  80001  0.966818    1.00  2016.0   Spring  102.0    Aplia\n",
       "1  99036  0.729091    0.72  2016.0   Spring  102.0    Aplia\n",
       "2  80524  0.854773    1.00  2016.0   Spring  102.0    Aplia\n",
       "3  84246  0.596591    0.80  2016.0   Spring  102.0    Aplia\n",
       "4  28180  0.689091    0.96  2016.0   Spring  102.0    Aplia"
      ]
     },
     "execution_count": 2,
     "metadata": {},
     "output_type": "execute_result"
    }
   ],
   "source": [
    "# Importing the Grade data\n",
    "grade_df = pd.read_csv('./data/grade.csv')\n",
    "grade_df.head()"
   ]
  },
  {
   "cell_type": "code",
   "execution_count": 3,
   "metadata": {},
   "outputs": [],
   "source": [
    "# Create a Pass column for grade equals or over 0.68\n",
    "grade_df[\"Pass\"] = np.where(grade_df[\"Final\"] >= 0.68, \"Yes\", \"No\")\n",
    "\n",
    "# Convert Year and Class to integer\n",
    "grade_df[\"Year\"] = grade_df[\"Year\"].astype(int)\n",
    "grade_df[\"Class\"] = grade_df[\"Class\"].astype(int)"
   ]
  },
  {
   "cell_type": "code",
   "execution_count": 4,
   "metadata": {},
   "outputs": [
    {
     "data": {
      "text/html": [
       "<div>\n",
       "<style scoped>\n",
       "    .dataframe tbody tr th:only-of-type {\n",
       "        vertical-align: middle;\n",
       "    }\n",
       "\n",
       "    .dataframe tbody tr th {\n",
       "        vertical-align: top;\n",
       "    }\n",
       "\n",
       "    .dataframe thead th {\n",
       "        text-align: right;\n",
       "    }\n",
       "</style>\n",
       "<table border=\"1\" class=\"dataframe\">\n",
       "  <thead>\n",
       "    <tr style=\"text-align: right;\">\n",
       "      <th></th>\n",
       "      <th>id</th>\n",
       "      <th>Final</th>\n",
       "      <th>Attend</th>\n",
       "      <th>Year</th>\n",
       "      <th>Semester</th>\n",
       "      <th>Class</th>\n",
       "      <th>Platform</th>\n",
       "      <th>Pass</th>\n",
       "    </tr>\n",
       "  </thead>\n",
       "  <tbody>\n",
       "    <tr>\n",
       "      <th>0</th>\n",
       "      <td>80001</td>\n",
       "      <td>0.966818</td>\n",
       "      <td>1.00</td>\n",
       "      <td>2016</td>\n",
       "      <td>Spring</td>\n",
       "      <td>102</td>\n",
       "      <td>Aplia</td>\n",
       "      <td>Yes</td>\n",
       "    </tr>\n",
       "    <tr>\n",
       "      <th>1</th>\n",
       "      <td>99036</td>\n",
       "      <td>0.729091</td>\n",
       "      <td>0.72</td>\n",
       "      <td>2016</td>\n",
       "      <td>Spring</td>\n",
       "      <td>102</td>\n",
       "      <td>Aplia</td>\n",
       "      <td>Yes</td>\n",
       "    </tr>\n",
       "    <tr>\n",
       "      <th>2</th>\n",
       "      <td>80524</td>\n",
       "      <td>0.854773</td>\n",
       "      <td>1.00</td>\n",
       "      <td>2016</td>\n",
       "      <td>Spring</td>\n",
       "      <td>102</td>\n",
       "      <td>Aplia</td>\n",
       "      <td>Yes</td>\n",
       "    </tr>\n",
       "    <tr>\n",
       "      <th>3</th>\n",
       "      <td>84246</td>\n",
       "      <td>0.596591</td>\n",
       "      <td>0.80</td>\n",
       "      <td>2016</td>\n",
       "      <td>Spring</td>\n",
       "      <td>102</td>\n",
       "      <td>Aplia</td>\n",
       "      <td>No</td>\n",
       "    </tr>\n",
       "    <tr>\n",
       "      <th>4</th>\n",
       "      <td>28180</td>\n",
       "      <td>0.689091</td>\n",
       "      <td>0.96</td>\n",
       "      <td>2016</td>\n",
       "      <td>Spring</td>\n",
       "      <td>102</td>\n",
       "      <td>Aplia</td>\n",
       "      <td>Yes</td>\n",
       "    </tr>\n",
       "  </tbody>\n",
       "</table>\n",
       "</div>"
      ],
      "text/plain": [
       "      id     Final  Attend  Year Semester  Class Platform Pass\n",
       "0  80001  0.966818    1.00  2016   Spring    102    Aplia  Yes\n",
       "1  99036  0.729091    0.72  2016   Spring    102    Aplia  Yes\n",
       "2  80524  0.854773    1.00  2016   Spring    102    Aplia  Yes\n",
       "3  84246  0.596591    0.80  2016   Spring    102    Aplia   No\n",
       "4  28180  0.689091    0.96  2016   Spring    102    Aplia  Yes"
      ]
     },
     "execution_count": 4,
     "metadata": {},
     "output_type": "execute_result"
    }
   ],
   "source": [
    "# Print the data frame\n",
    "grade_df.head()"
   ]
  },
  {
   "cell_type": "code",
   "execution_count": 5,
   "metadata": {},
   "outputs": [
    {
     "data": {
      "text/html": [
       "<div>\n",
       "<style scoped>\n",
       "    .dataframe tbody tr th:only-of-type {\n",
       "        vertical-align: middle;\n",
       "    }\n",
       "\n",
       "    .dataframe tbody tr th {\n",
       "        vertical-align: top;\n",
       "    }\n",
       "\n",
       "    .dataframe thead th {\n",
       "        text-align: right;\n",
       "    }\n",
       "</style>\n",
       "<table border=\"1\" class=\"dataframe\">\n",
       "  <thead>\n",
       "    <tr style=\"text-align: right;\">\n",
       "      <th></th>\n",
       "      <th></th>\n",
       "      <th></th>\n",
       "      <th></th>\n",
       "      <th>Final</th>\n",
       "      <th>Attend</th>\n",
       "    </tr>\n",
       "    <tr>\n",
       "      <th>Year</th>\n",
       "      <th>Semester</th>\n",
       "      <th>Class</th>\n",
       "      <th>Platform</th>\n",
       "      <th></th>\n",
       "      <th></th>\n",
       "    </tr>\n",
       "  </thead>\n",
       "  <tbody>\n",
       "    <tr>\n",
       "      <th rowspan=\"7\" valign=\"top\">2016</th>\n",
       "      <th rowspan=\"4\" valign=\"top\">Spring</th>\n",
       "      <th>102</th>\n",
       "      <th>Aplia</th>\n",
       "      <td>0.749191</td>\n",
       "      <td>0.827433</td>\n",
       "    </tr>\n",
       "    <tr>\n",
       "      <th rowspan=\"2\" valign=\"top\">101</th>\n",
       "      <th>Aplia</th>\n",
       "      <td>0.790141</td>\n",
       "      <td>0.846491</td>\n",
       "    </tr>\n",
       "    <tr>\n",
       "      <th>Sapling</th>\n",
       "      <td>0.771258</td>\n",
       "      <td>0.782813</td>\n",
       "    </tr>\n",
       "    <tr>\n",
       "      <th>102</th>\n",
       "      <th>LaunchPad</th>\n",
       "      <td>0.652393</td>\n",
       "      <td>0.802015</td>\n",
       "    </tr>\n",
       "    <tr>\n",
       "      <th rowspan=\"3\" valign=\"top\">Fall</th>\n",
       "      <th>102</th>\n",
       "      <th>EconLab</th>\n",
       "      <td>0.660884</td>\n",
       "      <td>0.593750</td>\n",
       "    </tr>\n",
       "    <tr>\n",
       "      <th>101</th>\n",
       "      <th>LaunchPad</th>\n",
       "      <td>0.678925</td>\n",
       "      <td>0.830208</td>\n",
       "    </tr>\n",
       "    <tr>\n",
       "      <th>102</th>\n",
       "      <th>LaunchPad</th>\n",
       "      <td>0.693918</td>\n",
       "      <td>0.767911</td>\n",
       "    </tr>\n",
       "    <tr>\n",
       "      <th rowspan=\"5\" valign=\"top\">2017</th>\n",
       "      <th rowspan=\"4\" valign=\"top\">Spring</th>\n",
       "      <th>102</th>\n",
       "      <th>Canvas</th>\n",
       "      <td>0.618941</td>\n",
       "      <td>0.657781</td>\n",
       "    </tr>\n",
       "    <tr>\n",
       "      <th rowspan=\"2\" valign=\"top\">101</th>\n",
       "      <th>Canvas</th>\n",
       "      <td>0.673579</td>\n",
       "      <td>0.782675</td>\n",
       "    </tr>\n",
       "    <tr>\n",
       "      <th>iLearn</th>\n",
       "      <td>0.622658</td>\n",
       "      <td>0.730769</td>\n",
       "    </tr>\n",
       "    <tr>\n",
       "      <th>102</th>\n",
       "      <th>iLearn</th>\n",
       "      <td>0.662394</td>\n",
       "      <td>0.743176</td>\n",
       "    </tr>\n",
       "    <tr>\n",
       "      <th>Fall</th>\n",
       "      <th>101</th>\n",
       "      <th>LaunchPad</th>\n",
       "      <td>0.668935</td>\n",
       "      <td>0.780993</td>\n",
       "    </tr>\n",
       "    <tr>\n",
       "      <th rowspan=\"4\" valign=\"top\">2018</th>\n",
       "      <th rowspan=\"2\" valign=\"top\">Spring</th>\n",
       "      <th>101</th>\n",
       "      <th>Sapling</th>\n",
       "      <td>0.673322</td>\n",
       "      <td>0.699770</td>\n",
       "    </tr>\n",
       "    <tr>\n",
       "      <th>102</th>\n",
       "      <th>Sapling</th>\n",
       "      <td>0.679941</td>\n",
       "      <td>0.754132</td>\n",
       "    </tr>\n",
       "    <tr>\n",
       "      <th rowspan=\"2\" valign=\"top\">Fall</th>\n",
       "      <th>102</th>\n",
       "      <th>Sapling</th>\n",
       "      <td>0.666371</td>\n",
       "      <td>0.716236</td>\n",
       "    </tr>\n",
       "    <tr>\n",
       "      <th>101</th>\n",
       "      <th>Sapling</th>\n",
       "      <td>0.805376</td>\n",
       "      <td>0.829994</td>\n",
       "    </tr>\n",
       "    <tr>\n",
       "      <th rowspan=\"5\" valign=\"top\">2019</th>\n",
       "      <th rowspan=\"3\" valign=\"top\">Spring</th>\n",
       "      <th>101</th>\n",
       "      <th>Achieve</th>\n",
       "      <td>0.673405</td>\n",
       "      <td>0.628346</td>\n",
       "    </tr>\n",
       "    <tr>\n",
       "      <th rowspan=\"2\" valign=\"top\">102</th>\n",
       "      <th>Achieve</th>\n",
       "      <td>0.775207</td>\n",
       "      <td>0.789288</td>\n",
       "    </tr>\n",
       "    <tr>\n",
       "      <th>Canvas</th>\n",
       "      <td>0.665831</td>\n",
       "      <td>0.784832</td>\n",
       "    </tr>\n",
       "    <tr>\n",
       "      <th rowspan=\"2\" valign=\"top\">Fall</th>\n",
       "      <th>102</th>\n",
       "      <th>Achieve</th>\n",
       "      <td>0.715671</td>\n",
       "      <td>0.592382</td>\n",
       "    </tr>\n",
       "    <tr>\n",
       "      <th>101</th>\n",
       "      <th>Achieve</th>\n",
       "      <td>0.905049</td>\n",
       "      <td>0.920646</td>\n",
       "    </tr>\n",
       "    <tr>\n",
       "      <th rowspan=\"3\" valign=\"top\">2020</th>\n",
       "      <th rowspan=\"3\" valign=\"top\">Spring</th>\n",
       "      <th>101</th>\n",
       "      <th>Achieve</th>\n",
       "      <td>0.831197</td>\n",
       "      <td>0.643725</td>\n",
       "    </tr>\n",
       "    <tr>\n",
       "      <th rowspan=\"2\" valign=\"top\">102</th>\n",
       "      <th>Achieve</th>\n",
       "      <td>0.820166</td>\n",
       "      <td>0.710938</td>\n",
       "    </tr>\n",
       "    <tr>\n",
       "      <th>Canvas</th>\n",
       "      <td>0.612986</td>\n",
       "      <td>0.631944</td>\n",
       "    </tr>\n",
       "  </tbody>\n",
       "</table>\n",
       "</div>"
      ],
      "text/plain": [
       "                                  Final    Attend\n",
       "Year Semester Class Platform                     \n",
       "2016 Spring   102   Aplia      0.749191  0.827433\n",
       "              101   Aplia      0.790141  0.846491\n",
       "                    Sapling    0.771258  0.782813\n",
       "              102   LaunchPad  0.652393  0.802015\n",
       "     Fall     102   EconLab    0.660884  0.593750\n",
       "              101   LaunchPad  0.678925  0.830208\n",
       "              102   LaunchPad  0.693918  0.767911\n",
       "2017 Spring   102   Canvas     0.618941  0.657781\n",
       "              101   Canvas     0.673579  0.782675\n",
       "                    iLearn     0.622658  0.730769\n",
       "              102   iLearn     0.662394  0.743176\n",
       "     Fall     101   LaunchPad  0.668935  0.780993\n",
       "2018 Spring   101   Sapling    0.673322  0.699770\n",
       "              102   Sapling    0.679941  0.754132\n",
       "     Fall     102   Sapling    0.666371  0.716236\n",
       "              101   Sapling    0.805376  0.829994\n",
       "2019 Spring   101   Achieve    0.673405  0.628346\n",
       "              102   Achieve    0.775207  0.789288\n",
       "                    Canvas     0.665831  0.784832\n",
       "     Fall     102   Achieve    0.715671  0.592382\n",
       "              101   Achieve    0.905049  0.920646\n",
       "2020 Spring   101   Achieve    0.831197  0.643725\n",
       "              102   Achieve    0.820166  0.710938\n",
       "                    Canvas     0.612986  0.631944"
      ]
     },
     "execution_count": 5,
     "metadata": {},
     "output_type": "execute_result"
    }
   ],
   "source": [
    "# Create cross table\n",
    "cross = grade_df.groupby([\"Year\", \"Semester\", \"Class\", \"Platform\"], sort=False).mean()\n",
    "cross = cross.drop(columns=[\"id\"])\n",
    "cross"
   ]
  },
  {
   "cell_type": "code",
   "execution_count": 6,
   "metadata": {},
   "outputs": [],
   "source": [
    "# Create Visual for grade and attendance by platform used\n",
    "cross_table = cross.reset_index(level=\"Platform\")"
   ]
  },
  {
   "cell_type": "code",
   "execution_count": 7,
   "metadata": {},
   "outputs": [
    {
     "data": {
      "text/html": [
       "<div>\n",
       "<style scoped>\n",
       "    .dataframe tbody tr th:only-of-type {\n",
       "        vertical-align: middle;\n",
       "    }\n",
       "\n",
       "    .dataframe tbody tr th {\n",
       "        vertical-align: top;\n",
       "    }\n",
       "\n",
       "    .dataframe thead th {\n",
       "        text-align: right;\n",
       "    }\n",
       "</style>\n",
       "<table border=\"1\" class=\"dataframe\">\n",
       "  <thead>\n",
       "    <tr style=\"text-align: right;\">\n",
       "      <th></th>\n",
       "      <th>Platform</th>\n",
       "      <th>Final</th>\n",
       "      <th>Attend</th>\n",
       "    </tr>\n",
       "  </thead>\n",
       "  <tbody>\n",
       "    <tr>\n",
       "      <th>0</th>\n",
       "      <td>Achieve</td>\n",
       "      <td>0.786783</td>\n",
       "      <td>0.714221</td>\n",
       "    </tr>\n",
       "    <tr>\n",
       "      <th>1</th>\n",
       "      <td>Aplia</td>\n",
       "      <td>0.769666</td>\n",
       "      <td>0.836962</td>\n",
       "    </tr>\n",
       "    <tr>\n",
       "      <th>2</th>\n",
       "      <td>Canvas</td>\n",
       "      <td>0.642834</td>\n",
       "      <td>0.714308</td>\n",
       "    </tr>\n",
       "    <tr>\n",
       "      <th>3</th>\n",
       "      <td>EconLab</td>\n",
       "      <td>0.660884</td>\n",
       "      <td>0.593750</td>\n",
       "    </tr>\n",
       "    <tr>\n",
       "      <th>4</th>\n",
       "      <td>LaunchPad</td>\n",
       "      <td>0.673543</td>\n",
       "      <td>0.795282</td>\n",
       "    </tr>\n",
       "    <tr>\n",
       "      <th>5</th>\n",
       "      <td>Sapling</td>\n",
       "      <td>0.719254</td>\n",
       "      <td>0.756589</td>\n",
       "    </tr>\n",
       "    <tr>\n",
       "      <th>6</th>\n",
       "      <td>iLearn</td>\n",
       "      <td>0.642526</td>\n",
       "      <td>0.736973</td>\n",
       "    </tr>\n",
       "  </tbody>\n",
       "</table>\n",
       "</div>"
      ],
      "text/plain": [
       "    Platform     Final    Attend\n",
       "0    Achieve  0.786783  0.714221\n",
       "1      Aplia  0.769666  0.836962\n",
       "2     Canvas  0.642834  0.714308\n",
       "3    EconLab  0.660884  0.593750\n",
       "4  LaunchPad  0.673543  0.795282\n",
       "5    Sapling  0.719254  0.756589\n",
       "6     iLearn  0.642526  0.736973"
      ]
     },
     "execution_count": 7,
     "metadata": {},
     "output_type": "execute_result"
    }
   ],
   "source": [
    "platform = cross_table.groupby([\"Platform\"]).mean().reset_index()\n",
    "platform"
   ]
  },
  {
   "cell_type": "code",
   "execution_count": 8,
   "metadata": {},
   "outputs": [
    {
     "data": {
      "text/plain": [
       "<matplotlib.axes._subplots.AxesSubplot at 0x1e7a09c8748>"
      ]
     },
     "execution_count": 8,
     "metadata": {},
     "output_type": "execute_result"
    },
    {
     "data": {
      "image/png": "[encoded data removed]",
      "text/plain": [
       "<Figure size 432x288 with 1 Axes>"
      ]
     },
     "metadata": {
      "needs_background": "light"
     },
     "output_type": "display_data"
    }
   ],
   "source": [
    "sns.barplot(x=platform[\"Platform\"], y=platform[\"Final\"])"
   ]
  },
  {
   "cell_type": "code",
   "execution_count": 9,
   "metadata": {},
   "outputs": [
    {
     "data": {
      "text/plain": [
       "<matplotlib.axes._subplots.AxesSubplot at 0x1e7a0ceb1d0>"
      ]
     },
     "execution_count": 9,
     "metadata": {},
     "output_type": "execute_result"
    },
    {
     "data": {
      "image/png": "[encoded data removed]",
      "text/plain": [
       "<Figure size 432x288 with 1 Axes>"
      ]
     },
     "metadata": {
      "needs_background": "light"
     },
     "output_type": "display_data"
    }
   ],
   "source": [
    "sns.barplot(x=platform[\"Platform\"], y=platform[\"Attend\"])"
   ]
  },
  {
   "cell_type": "code",
   "execution_count": 10,
   "metadata": {},
   "outputs": [],
   "source": [
    "# Create visual for grade and attendance by course\n",
    "cross_table = cross.reset_index(level=\"Class\")"
   ]
  },
  {
   "cell_type": "code",
   "execution_count": 11,
   "metadata": {},
   "outputs": [
    {
     "data": {
      "text/html": [
       "<div>\n",
       "<style scoped>\n",
       "    .dataframe tbody tr th:only-of-type {\n",
       "        vertical-align: middle;\n",
       "    }\n",
       "\n",
       "    .dataframe tbody tr th {\n",
       "        vertical-align: top;\n",
       "    }\n",
       "\n",
       "    .dataframe thead th {\n",
       "        text-align: right;\n",
       "    }\n",
       "</style>\n",
       "<table border=\"1\" class=\"dataframe\">\n",
       "  <thead>\n",
       "    <tr style=\"text-align: right;\">\n",
       "      <th></th>\n",
       "      <th>Class</th>\n",
       "      <th>Final</th>\n",
       "      <th>Attend</th>\n",
       "    </tr>\n",
       "  </thead>\n",
       "  <tbody>\n",
       "    <tr>\n",
       "      <th>0</th>\n",
       "      <td>101</td>\n",
       "      <td>0.735804</td>\n",
       "      <td>0.770584</td>\n",
       "    </tr>\n",
       "    <tr>\n",
       "      <th>1</th>\n",
       "      <td>102</td>\n",
       "      <td>0.690300</td>\n",
       "      <td>0.720909</td>\n",
       "    </tr>\n",
       "  </tbody>\n",
       "</table>\n",
       "</div>"
      ],
      "text/plain": [
       "   Class     Final    Attend\n",
       "0    101  0.735804  0.770584\n",
       "1    102  0.690300  0.720909"
      ]
     },
     "execution_count": 11,
     "metadata": {},
     "output_type": "execute_result"
    }
   ],
   "source": [
    "course = cross_table.groupby([\"Class\"]).mean().reset_index()\n",
    "course"
   ]
  },
  {
   "cell_type": "code",
   "execution_count": 12,
   "metadata": {},
   "outputs": [
    {
     "data": {
      "text/plain": [
       "<matplotlib.axes._subplots.AxesSubplot at 0x1e7a0d7d198>"
      ]
     },
     "execution_count": 12,
     "metadata": {},
     "output_type": "execute_result"
    },
    {
     "data": {
      "image/png": "[encoded data removed]",
      "text/plain": [
       "<Figure size 432x288 with 1 Axes>"
      ]
     },
     "metadata": {
      "needs_background": "light"
     },
     "output_type": "display_data"
    }
   ],
   "source": [
    "sns.barplot(x=course[\"Class\"], y=course[\"Final\"])"
   ]
  },
  {
   "cell_type": "code",
   "execution_count": 13,
   "metadata": {},
   "outputs": [
    {
     "data": {
      "text/plain": [
       "<matplotlib.axes._subplots.AxesSubplot at 0x1e7a0dd3320>"
      ]
     },
     "execution_count": 13,
     "metadata": {},
     "output_type": "execute_result"
    },
    {
     "data": {
      "image/png": "[encoded data removed]",
      "text/plain": [
       "<Figure size 432x288 with 1 Axes>"
      ]
     },
     "metadata": {
      "needs_background": "light"
     },
     "output_type": "display_data"
    }
   ],
   "source": [
    "sns.barplot(x=course[\"Class\"], y=course[\"Attend\"])"
   ]
  },
  {
   "cell_type": "code",
   "execution_count": 14,
   "metadata": {},
   "outputs": [
    {
     "data": {
      "text/html": [
       "<div>\n",
       "<style scoped>\n",
       "    .dataframe tbody tr th:only-of-type {\n",
       "        vertical-align: middle;\n",
       "    }\n",
       "\n",
       "    .dataframe tbody tr th {\n",
       "        vertical-align: top;\n",
       "    }\n",
       "\n",
       "    .dataframe thead th {\n",
       "        text-align: right;\n",
       "    }\n",
       "</style>\n",
       "<table border=\"1\" class=\"dataframe\">\n",
       "  <thead>\n",
       "    <tr style=\"text-align: right;\">\n",
       "      <th></th>\n",
       "      <th></th>\n",
       "      <th>Final</th>\n",
       "      <th>Attend</th>\n",
       "    </tr>\n",
       "    <tr>\n",
       "      <th>Year</th>\n",
       "      <th>Semester</th>\n",
       "      <th></th>\n",
       "      <th></th>\n",
       "    </tr>\n",
       "  </thead>\n",
       "  <tbody>\n",
       "    <tr>\n",
       "      <th rowspan=\"2\" valign=\"top\">2016</th>\n",
       "      <th>Spring</th>\n",
       "      <td>0.740746</td>\n",
       "      <td>0.814688</td>\n",
       "    </tr>\n",
       "    <tr>\n",
       "      <th>Fall</th>\n",
       "      <td>0.677909</td>\n",
       "      <td>0.730623</td>\n",
       "    </tr>\n",
       "    <tr>\n",
       "      <th rowspan=\"2\" valign=\"top\">2017</th>\n",
       "      <th>Spring</th>\n",
       "      <td>0.644393</td>\n",
       "      <td>0.728600</td>\n",
       "    </tr>\n",
       "    <tr>\n",
       "      <th>Fall</th>\n",
       "      <td>0.668935</td>\n",
       "      <td>0.780993</td>\n",
       "    </tr>\n",
       "    <tr>\n",
       "      <th rowspan=\"2\" valign=\"top\">2018</th>\n",
       "      <th>Spring</th>\n",
       "      <td>0.676632</td>\n",
       "      <td>0.726951</td>\n",
       "    </tr>\n",
       "    <tr>\n",
       "      <th>Fall</th>\n",
       "      <td>0.735874</td>\n",
       "      <td>0.773115</td>\n",
       "    </tr>\n",
       "    <tr>\n",
       "      <th rowspan=\"2\" valign=\"top\">2019</th>\n",
       "      <th>Spring</th>\n",
       "      <td>0.704814</td>\n",
       "      <td>0.734155</td>\n",
       "    </tr>\n",
       "    <tr>\n",
       "      <th>Fall</th>\n",
       "      <td>0.810360</td>\n",
       "      <td>0.756514</td>\n",
       "    </tr>\n",
       "    <tr>\n",
       "      <th>2020</th>\n",
       "      <th>Spring</th>\n",
       "      <td>0.754783</td>\n",
       "      <td>0.662202</td>\n",
       "    </tr>\n",
       "  </tbody>\n",
       "</table>\n",
       "</div>"
      ],
      "text/plain": [
       "                  Final    Attend\n",
       "Year Semester                    \n",
       "2016 Spring    0.740746  0.814688\n",
       "     Fall      0.677909  0.730623\n",
       "2017 Spring    0.644393  0.728600\n",
       "     Fall      0.668935  0.780993\n",
       "2018 Spring    0.676632  0.726951\n",
       "     Fall      0.735874  0.773115\n",
       "2019 Spring    0.704814  0.734155\n",
       "     Fall      0.810360  0.756514\n",
       "2020 Spring    0.754783  0.662202"
      ]
     },
     "execution_count": 14,
     "metadata": {},
     "output_type": "execute_result"
    }
   ],
   "source": [
    "# Create visual for grade and attendance by course\n",
    "cross_table = cross.reset_index()\n",
    "cross_table = cross_table.drop(columns=[\"Platform\", \"Class\"])\n",
    "cross_table = cross_table.groupby([\"Year\", \"Semester\"], sort=False).mean()\n",
    "cross_table"
   ]
  },
  {
   "cell_type": "code",
   "execution_count": 15,
   "metadata": {},
   "outputs": [
    {
     "data": {
      "text/html": [
       "<div>\n",
       "<style scoped>\n",
       "    .dataframe tbody tr th:only-of-type {\n",
       "        vertical-align: middle;\n",
       "    }\n",
       "\n",
       "    .dataframe tbody tr th {\n",
       "        vertical-align: top;\n",
       "    }\n",
       "\n",
       "    .dataframe thead th {\n",
       "        text-align: right;\n",
       "    }\n",
       "</style>\n",
       "<table border=\"1\" class=\"dataframe\">\n",
       "  <thead>\n",
       "    <tr style=\"text-align: right;\">\n",
       "      <th></th>\n",
       "      <th>Year</th>\n",
       "      <th>Semester</th>\n",
       "      <th>Final</th>\n",
       "      <th>Attend</th>\n",
       "      <th>Term</th>\n",
       "    </tr>\n",
       "  </thead>\n",
       "  <tbody>\n",
       "    <tr>\n",
       "      <th>0</th>\n",
       "      <td>2016</td>\n",
       "      <td>Spring</td>\n",
       "      <td>0.740746</td>\n",
       "      <td>0.814688</td>\n",
       "      <td>2016Spring</td>\n",
       "    </tr>\n",
       "    <tr>\n",
       "      <th>1</th>\n",
       "      <td>2016</td>\n",
       "      <td>Fall</td>\n",
       "      <td>0.677909</td>\n",
       "      <td>0.730623</td>\n",
       "      <td>2016Fall</td>\n",
       "    </tr>\n",
       "    <tr>\n",
       "      <th>2</th>\n",
       "      <td>2017</td>\n",
       "      <td>Spring</td>\n",
       "      <td>0.644393</td>\n",
       "      <td>0.728600</td>\n",
       "      <td>2017Spring</td>\n",
       "    </tr>\n",
       "    <tr>\n",
       "      <th>3</th>\n",
       "      <td>2017</td>\n",
       "      <td>Fall</td>\n",
       "      <td>0.668935</td>\n",
       "      <td>0.780993</td>\n",
       "      <td>2017Fall</td>\n",
       "    </tr>\n",
       "    <tr>\n",
       "      <th>4</th>\n",
       "      <td>2018</td>\n",
       "      <td>Spring</td>\n",
       "      <td>0.676632</td>\n",
       "      <td>0.726951</td>\n",
       "      <td>2018Spring</td>\n",
       "    </tr>\n",
       "    <tr>\n",
       "      <th>5</th>\n",
       "      <td>2018</td>\n",
       "      <td>Fall</td>\n",
       "      <td>0.735874</td>\n",
       "      <td>0.773115</td>\n",
       "      <td>2018Fall</td>\n",
       "    </tr>\n",
       "    <tr>\n",
       "      <th>6</th>\n",
       "      <td>2019</td>\n",
       "      <td>Spring</td>\n",
       "      <td>0.704814</td>\n",
       "      <td>0.734155</td>\n",
       "      <td>2019Spring</td>\n",
       "    </tr>\n",
       "    <tr>\n",
       "      <th>7</th>\n",
       "      <td>2019</td>\n",
       "      <td>Fall</td>\n",
       "      <td>0.810360</td>\n",
       "      <td>0.756514</td>\n",
       "      <td>2019Fall</td>\n",
       "    </tr>\n",
       "    <tr>\n",
       "      <th>8</th>\n",
       "      <td>2020</td>\n",
       "      <td>Spring</td>\n",
       "      <td>0.754783</td>\n",
       "      <td>0.662202</td>\n",
       "      <td>2020Spring</td>\n",
       "    </tr>\n",
       "  </tbody>\n",
       "</table>\n",
       "</div>"
      ],
      "text/plain": [
       "   Year Semester     Final    Attend        Term\n",
       "0  2016   Spring  0.740746  0.814688  2016Spring\n",
       "1  2016     Fall  0.677909  0.730623    2016Fall\n",
       "2  2017   Spring  0.644393  0.728600  2017Spring\n",
       "3  2017     Fall  0.668935  0.780993    2017Fall\n",
       "4  2018   Spring  0.676632  0.726951  2018Spring\n",
       "5  2018     Fall  0.735874  0.773115    2018Fall\n",
       "6  2019   Spring  0.704814  0.734155  2019Spring\n",
       "7  2019     Fall  0.810360  0.756514    2019Fall\n",
       "8  2020   Spring  0.754783  0.662202  2020Spring"
      ]
     },
     "execution_count": 15,
     "metadata": {},
     "output_type": "execute_result"
    }
   ],
   "source": [
    "# Create term column\n",
    "term = cross_table.reset_index()\n",
    "term[\"Term\"] = term[\"Year\"].astype(str)+term[\"Semester\"]\n",
    "term"
   ]
  },
  {
   "cell_type": "code",
   "execution_count": 16,
   "metadata": {},
   "outputs": [
    {
     "data": {
      "text/plain": [
       "<matplotlib.axes._subplots.AxesSubplot at 0x1e7a0e22c88>"
      ]
     },
     "execution_count": 16,
     "metadata": {},
     "output_type": "execute_result"
    },
    {
     "data": {
      "image/png": "[encoded data removed]",
      "text/plain": [
       "<Figure size 432x288 with 1 Axes>"
      ]
     },
     "metadata": {
      "needs_background": "light"
     },
     "output_type": "display_data"
    }
   ],
   "source": [
    "sns.lineplot(x=\"Term\", y=\"Final\", data=term)"
   ]
  },
  {
   "cell_type": "code",
   "execution_count": 17,
   "metadata": {},
   "outputs": [
    {
     "data": {
      "text/plain": [
       "<matplotlib.axes._subplots.AxesSubplot at 0x1e7a0ee6780>"
      ]
     },
     "execution_count": 17,
     "metadata": {},
     "output_type": "execute_result"
    },
    {
     "data": {
      "image/png": "[encoded data removed]",
      "text/plain": [
       "<Figure size 432x288 with 1 Axes>"
      ]
     },
     "metadata": {
      "needs_background": "light"
     },
     "output_type": "display_data"
    }
   ],
   "source": [
    "sns.lineplot(x=\"Term\", y=\"Attend\", data=term)"
   ]
  },
  {
   "cell_type": "code",
   "execution_count": null,
   "metadata": {},
   "outputs": [],
   "source": []
  },
  {
   "cell_type": "code",
   "execution_count": null,
   "metadata": {},
   "outputs": [],
   "source": []
  }
 ],
 "metadata": {
  "kernelspec": {
   "display_name": "Python 3",
   "language": "python",
   "name": "python3"
  },
  "language_info": {
   "codemirror_mode": {
    "name": "ipython",
    "version": 3
   },
   "file_extension": ".py",
   "mimetype": "text/x-python",
   "name": "python",
   "nbconvert_exporter": "python",
   "pygments_lexer": "ipython3",
   "version": "3.7.1"
  }
 },
 "nbformat": 4,
 "nbformat_minor": 2
}
