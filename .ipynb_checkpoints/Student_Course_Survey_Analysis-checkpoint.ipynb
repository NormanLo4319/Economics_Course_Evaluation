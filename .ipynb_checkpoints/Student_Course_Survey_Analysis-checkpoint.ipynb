{
 "cells": [
  {
   "cell_type": "markdown",
   "metadata": {},
   "source": [
    "# Student Course Survey Analysis"
   ]
  },
  {
   "cell_type": "code",
   "execution_count": 16,
   "metadata": {},
   "outputs": [],
   "source": [
    "import pandas as pd\n",
    "import numpy as np\n",
    "import scipy as sp\n",
    "import matplotlib.pyplot as plt\n",
    "import seaborn as sns\n",
    "sns.set(style=\"ticks\", color_codes=True)\n",
    "from statsmodels.graphics.mosaicplot import mosaic\n",
    "%matplotlib inline"
   ]
  },
  {
   "cell_type": "code",
   "execution_count": 2,
   "metadata": {},
   "outputs": [],
   "source": [
    "# Importing the Economics Survey data\n",
    "econ_df = pd.read_csv('./data/2016FA_ECON_Survey.csv')"
   ]
  },
  {
   "cell_type": "code",
   "execution_count": 3,
   "metadata": {},
   "outputs": [
    {
     "data": {
      "text/html": [
       "<div>\n",
       "<style scoped>\n",
       "    .dataframe tbody tr th:only-of-type {\n",
       "        vertical-align: middle;\n",
       "    }\n",
       "\n",
       "    .dataframe tbody tr th {\n",
       "        vertical-align: top;\n",
       "    }\n",
       "\n",
       "    .dataframe thead th {\n",
       "        text-align: right;\n",
       "    }\n",
       "</style>\n",
       "<table border=\"1\" class=\"dataframe\">\n",
       "  <thead>\n",
       "    <tr style=\"text-align: right;\">\n",
       "      <th></th>\n",
       "      <th>id</th>\n",
       "      <th>School</th>\n",
       "      <th>Gender</th>\n",
       "      <th>Race</th>\n",
       "      <th>Local</th>\n",
       "      <th>Full Time</th>\n",
       "      <th>Future</th>\n",
       "      <th>Effectiveness</th>\n",
       "      <th>Online Supplement</th>\n",
       "      <th>Supplement Use</th>\n",
       "    </tr>\n",
       "  </thead>\n",
       "  <tbody>\n",
       "    <tr>\n",
       "      <th>0</th>\n",
       "      <td>916077115</td>\n",
       "      <td>San Francisco State University</td>\n",
       "      <td>Male</td>\n",
       "      <td>Asian</td>\n",
       "      <td>Local Student</td>\n",
       "      <td>Full time</td>\n",
       "      <td>Very helpful</td>\n",
       "      <td>Somewhat effective</td>\n",
       "      <td>Very helpful</td>\n",
       "      <td>No problem at all</td>\n",
       "    </tr>\n",
       "    <tr>\n",
       "      <th>1</th>\n",
       "      <td>916082731</td>\n",
       "      <td>San Francisco State University</td>\n",
       "      <td>Male</td>\n",
       "      <td>Hispanic</td>\n",
       "      <td>Local Student</td>\n",
       "      <td>Full time</td>\n",
       "      <td>Very helpful</td>\n",
       "      <td>Very effective</td>\n",
       "      <td>Very helpful</td>\n",
       "      <td>No problem at all</td>\n",
       "    </tr>\n",
       "    <tr>\n",
       "      <th>2</th>\n",
       "      <td>917218853</td>\n",
       "      <td>San Francisco State University</td>\n",
       "      <td>Male</td>\n",
       "      <td>White</td>\n",
       "      <td>Local Student</td>\n",
       "      <td>Full time</td>\n",
       "      <td>Very helpful</td>\n",
       "      <td>Very effective</td>\n",
       "      <td>Very helpful</td>\n",
       "      <td>Not too difficult</td>\n",
       "    </tr>\n",
       "    <tr>\n",
       "      <th>3</th>\n",
       "      <td>916777620</td>\n",
       "      <td>San Francisco State University</td>\n",
       "      <td>Male</td>\n",
       "      <td>Asian</td>\n",
       "      <td>Local Student</td>\n",
       "      <td>Full time</td>\n",
       "      <td>Very helpful</td>\n",
       "      <td>Very effective</td>\n",
       "      <td>Very helpful</td>\n",
       "      <td>Somewhat difficult</td>\n",
       "    </tr>\n",
       "    <tr>\n",
       "      <th>4</th>\n",
       "      <td>@00293246</td>\n",
       "      <td>San Francisco State University</td>\n",
       "      <td>Female</td>\n",
       "      <td>Asian</td>\n",
       "      <td>International Student</td>\n",
       "      <td>Full time</td>\n",
       "      <td>Somewhat helpful</td>\n",
       "      <td>Somewhat effective</td>\n",
       "      <td>Somewhat helpful</td>\n",
       "      <td>No problem at all</td>\n",
       "    </tr>\n",
       "    <tr>\n",
       "      <th>...</th>\n",
       "      <td>...</td>\n",
       "      <td>...</td>\n",
       "      <td>...</td>\n",
       "      <td>...</td>\n",
       "      <td>...</td>\n",
       "      <td>...</td>\n",
       "      <td>...</td>\n",
       "      <td>...</td>\n",
       "      <td>...</td>\n",
       "      <td>...</td>\n",
       "    </tr>\n",
       "    <tr>\n",
       "      <th>219</th>\n",
       "      <td>20384727</td>\n",
       "      <td>University of San Francisco</td>\n",
       "      <td>Female</td>\n",
       "      <td>White</td>\n",
       "      <td>Local Student</td>\n",
       "      <td>Full time</td>\n",
       "      <td>Somewhat helpful</td>\n",
       "      <td>Somewhat effective</td>\n",
       "      <td>Very helpful</td>\n",
       "      <td>Not too difficult</td>\n",
       "    </tr>\n",
       "    <tr>\n",
       "      <th>220</th>\n",
       "      <td>W10632556</td>\n",
       "      <td>City College of San Francisco</td>\n",
       "      <td>Female</td>\n",
       "      <td>Asian</td>\n",
       "      <td>Local Student</td>\n",
       "      <td>Full time</td>\n",
       "      <td>Very helpful</td>\n",
       "      <td>Very effective</td>\n",
       "      <td>Very helpful</td>\n",
       "      <td>Not too difficult</td>\n",
       "    </tr>\n",
       "    <tr>\n",
       "      <th>221</th>\n",
       "      <td>20392214</td>\n",
       "      <td>University of San Francisco</td>\n",
       "      <td>Male</td>\n",
       "      <td>Asian</td>\n",
       "      <td>Local Student</td>\n",
       "      <td>Full time</td>\n",
       "      <td>Somewhat helpful</td>\n",
       "      <td>Struggle learning in this class</td>\n",
       "      <td>Somewhat helpful</td>\n",
       "      <td>No problem at all</td>\n",
       "    </tr>\n",
       "    <tr>\n",
       "      <th>222</th>\n",
       "      <td>20392332</td>\n",
       "      <td>University of San Francisco</td>\n",
       "      <td>Female</td>\n",
       "      <td>Asian</td>\n",
       "      <td>International Student</td>\n",
       "      <td>Full time</td>\n",
       "      <td>Very helpful</td>\n",
       "      <td>Somewhat effective</td>\n",
       "      <td>Very helpful</td>\n",
       "      <td>Not too difficult</td>\n",
       "    </tr>\n",
       "    <tr>\n",
       "      <th>223</th>\n",
       "      <td>20384235</td>\n",
       "      <td>University of San Francisco</td>\n",
       "      <td>Female</td>\n",
       "      <td>Asian</td>\n",
       "      <td>Local Student</td>\n",
       "      <td>Full time</td>\n",
       "      <td>Somewhat helpful</td>\n",
       "      <td>Somewhat effective</td>\n",
       "      <td>Very helpful</td>\n",
       "      <td>Not too difficult</td>\n",
       "    </tr>\n",
       "  </tbody>\n",
       "</table>\n",
       "<p>224 rows × 10 columns</p>\n",
       "</div>"
      ],
      "text/plain": [
       "            id                          School  Gender      Race  \\\n",
       "0    916077115  San Francisco State University    Male     Asian   \n",
       "1    916082731  San Francisco State University    Male  Hispanic   \n",
       "2    917218853  San Francisco State University    Male     White   \n",
       "3    916777620  San Francisco State University    Male     Asian   \n",
       "4    @00293246  San Francisco State University  Female     Asian   \n",
       "..         ...                             ...     ...       ...   \n",
       "219   20384727     University of San Francisco  Female     White   \n",
       "220  W10632556   City College of San Francisco  Female     Asian   \n",
       "221   20392214     University of San Francisco    Male     Asian   \n",
       "222   20392332     University of San Francisco  Female     Asian   \n",
       "223   20384235     University of San Francisco  Female     Asian   \n",
       "\n",
       "                     Local  Full Time            Future  \\\n",
       "0            Local Student  Full time      Very helpful   \n",
       "1            Local Student  Full time      Very helpful   \n",
       "2            Local Student  Full time      Very helpful   \n",
       "3            Local Student  Full time      Very helpful   \n",
       "4    International Student  Full time  Somewhat helpful   \n",
       "..                     ...        ...               ...   \n",
       "219          Local Student  Full time  Somewhat helpful   \n",
       "220          Local Student  Full time      Very helpful   \n",
       "221          Local Student  Full time  Somewhat helpful   \n",
       "222  International Student  Full time      Very helpful   \n",
       "223          Local Student  Full time  Somewhat helpful   \n",
       "\n",
       "                       Effectiveness Online Supplement      Supplement Use  \n",
       "0                 Somewhat effective      Very helpful   No problem at all  \n",
       "1                     Very effective      Very helpful   No problem at all  \n",
       "2                     Very effective      Very helpful   Not too difficult  \n",
       "3                     Very effective      Very helpful  Somewhat difficult  \n",
       "4                 Somewhat effective  Somewhat helpful   No problem at all  \n",
       "..                               ...               ...                 ...  \n",
       "219               Somewhat effective      Very helpful   Not too difficult  \n",
       "220                   Very effective      Very helpful   Not too difficult  \n",
       "221  Struggle learning in this class  Somewhat helpful   No problem at all  \n",
       "222               Somewhat effective      Very helpful   Not too difficult  \n",
       "223               Somewhat effective      Very helpful   Not too difficult  \n",
       "\n",
       "[224 rows x 10 columns]"
      ]
     },
     "execution_count": 3,
     "metadata": {},
     "output_type": "execute_result"
    }
   ],
   "source": [
    "econ_df"
   ]
  },
  {
   "cell_type": "code",
   "execution_count": 11,
   "metadata": {},
   "outputs": [
    {
     "name": "stdout",
     "output_type": "stream",
     "text": [
      "<class 'pandas.core.frame.DataFrame'>\n",
      "RangeIndex: 224 entries, 0 to 223\n",
      "Data columns (total 10 columns):\n",
      "id                   224 non-null object\n",
      "School               224 non-null object\n",
      "Gender               224 non-null object\n",
      "Race                 224 non-null object\n",
      "Local                224 non-null object\n",
      "Full Time            224 non-null object\n",
      "Future               224 non-null object\n",
      "Effectiveness        224 non-null object\n",
      "Online Supplement    224 non-null object\n",
      "Supplement Use       224 non-null object\n",
      "dtypes: object(10)\n",
      "memory usage: 17.6+ KB\n"
     ]
    }
   ],
   "source": [
    "econ_df.info()"
   ]
  },
  {
   "cell_type": "code",
   "execution_count": 23,
   "metadata": {},
   "outputs": [
    {
     "data": {
      "text/plain": [
       "<matplotlib.axes._subplots.AxesSubplot at 0x1aad7dd30f0>"
      ]
     },
     "execution_count": 23,
     "metadata": {},
     "output_type": "execute_result"
    },
    {
     "data": {
      "image/png": "[encoded data removed]",
      "text/plain": [
       "<Figure size 432x288 with 1 Axes>"
      ]
     },
     "metadata": {
      "needs_background": "light"
     },
     "output_type": "display_data"
    }
   ],
   "source": [
    "sns.countplot(econ_df.School)"
   ]
  },
  {
   "cell_type": "code",
   "execution_count": 26,
   "metadata": {},
   "outputs": [
    {
     "data": {
      "image/png": "[encoded data removed]",
      "text/plain": [
       "<Figure size 432x288 with 3 Axes>"
      ]
     },
     "metadata": {
      "needs_background": "light"
     },
     "output_type": "display_data"
    }
   ],
   "source": [
    "# plot from a contingency table\n",
    "plt.rcParams['font.size'] = 6.0\n",
    "mosaic(econ_df, ['School', 'Gender'], gap=0.05);"
   ]
  },
  {
   "cell_type": "code",
   "execution_count": 31,
   "metadata": {},
   "outputs": [
    {
     "data": {
      "text/plain": [
       "<matplotlib.collections.PathCollection at 0x1aad8f790f0>"
      ]
     },
     "execution_count": 31,
     "metadata": {},
     "output_type": "execute_result"
    },
    {
     "data": {
      "image/png": "[encoded data removed]",
      "text/plain": [
       "<Figure size 432x288 with 1 Axes>"
      ]
     },
     "metadata": {
      "needs_background": "light"
     },
     "output_type": "display_data"
    }
   ],
   "source": [
    "# Categorical Plot\n",
    "plt.scatter(econ_df.School, econ_df.Gender)"
   ]
  },
  {
   "cell_type": "code",
   "execution_count": 38,
   "metadata": {},
   "outputs": [
    {
     "data": {
      "text/plain": [
       "<matplotlib.axes._subplots.AxesSubplot at 0x1aad8fb1198>"
      ]
     },
     "execution_count": 38,
     "metadata": {},
     "output_type": "execute_result"
    },
    {
     "data": {
      "image/png": "[encoded data removed]",
      "text/plain": [
       "<Figure size 432x288 with 1 Axes>"
      ]
     },
     "metadata": {
      "needs_background": "light"
     },
     "output_type": "display_data"
    }
   ],
   "source": [
    "sns.countplot(econ_df.Race)"
   ]
  },
  {
   "cell_type": "code",
   "execution_count": 39,
   "metadata": {},
   "outputs": [
    {
     "data": {
      "text/plain": [
       "<matplotlib.axes._subplots.AxesSubplot at 0x1aad8ede048>"
      ]
     },
     "execution_count": 39,
     "metadata": {},
     "output_type": "execute_result"
    },
    {
     "data": {
      "image/png": "[encoded data removed]",
      "text/plain": [
       "<Figure size 432x288 with 1 Axes>"
      ]
     },
     "metadata": {
      "needs_background": "light"
     },
     "output_type": "display_data"
    }
   ],
   "source": [
    "sns.countplot(econ_df.Gender)"
   ]
  },
  {
   "cell_type": "code",
   "execution_count": 40,
   "metadata": {},
   "outputs": [
    {
     "data": {
      "text/plain": [
       "<matplotlib.axes._subplots.AxesSubplot at 0x1aad8704eb8>"
      ]
     },
     "execution_count": 40,
     "metadata": {},
     "output_type": "execute_result"
    },
    {
     "data": {
      "image/png": "[encoded data removed]",
      "text/plain": [
       "<Figure size 432x288 with 1 Axes>"
      ]
     },
     "metadata": {
      "needs_background": "light"
     },
     "output_type": "display_data"
    }
   ],
   "source": [
    "sns.countplot(econ_df.Future)"
   ]
  },
  {
   "cell_type": "code",
   "execution_count": 45,
   "metadata": {},
   "outputs": [
    {
     "data": {
      "text/html": [
       "<div>\n",
       "<style scoped>\n",
       "    .dataframe tbody tr th:only-of-type {\n",
       "        vertical-align: middle;\n",
       "    }\n",
       "\n",
       "    .dataframe tbody tr th {\n",
       "        vertical-align: top;\n",
       "    }\n",
       "\n",
       "    .dataframe thead th {\n",
       "        text-align: right;\n",
       "    }\n",
       "</style>\n",
       "<table border=\"1\" class=\"dataframe\">\n",
       "  <thead>\n",
       "    <tr style=\"text-align: right;\">\n",
       "      <th></th>\n",
       "      <th>id</th>\n",
       "      <th>School</th>\n",
       "      <th>Gender</th>\n",
       "      <th>Race</th>\n",
       "      <th>Local</th>\n",
       "      <th>Full Time</th>\n",
       "      <th>Future</th>\n",
       "      <th>Effectiveness</th>\n",
       "      <th>Online Supplement</th>\n",
       "      <th>Supplement Use</th>\n",
       "    </tr>\n",
       "  </thead>\n",
       "  <tbody>\n",
       "    <tr>\n",
       "      <th>count</th>\n",
       "      <td>224</td>\n",
       "      <td>224</td>\n",
       "      <td>224</td>\n",
       "      <td>224</td>\n",
       "      <td>224</td>\n",
       "      <td>224</td>\n",
       "      <td>224</td>\n",
       "      <td>224</td>\n",
       "      <td>224</td>\n",
       "      <td>224</td>\n",
       "    </tr>\n",
       "    <tr>\n",
       "      <th>unique</th>\n",
       "      <td>224</td>\n",
       "      <td>3</td>\n",
       "      <td>2</td>\n",
       "      <td>5</td>\n",
       "      <td>2</td>\n",
       "      <td>2</td>\n",
       "      <td>4</td>\n",
       "      <td>4</td>\n",
       "      <td>4</td>\n",
       "      <td>4</td>\n",
       "    </tr>\n",
       "    <tr>\n",
       "      <th>top</th>\n",
       "      <td>917200432</td>\n",
       "      <td>San Francisco State University</td>\n",
       "      <td>Male</td>\n",
       "      <td>Asian</td>\n",
       "      <td>Local Student</td>\n",
       "      <td>Full time</td>\n",
       "      <td>Somewhat helpful</td>\n",
       "      <td>Somewhat effective</td>\n",
       "      <td>Somewhat helpful</td>\n",
       "      <td>Not too difficult</td>\n",
       "    </tr>\n",
       "    <tr>\n",
       "      <th>freq</th>\n",
       "      <td>1</td>\n",
       "      <td>148</td>\n",
       "      <td>121</td>\n",
       "      <td>115</td>\n",
       "      <td>181</td>\n",
       "      <td>212</td>\n",
       "      <td>134</td>\n",
       "      <td>122</td>\n",
       "      <td>102</td>\n",
       "      <td>114</td>\n",
       "    </tr>\n",
       "  </tbody>\n",
       "</table>\n",
       "</div>"
      ],
      "text/plain": [
       "               id                          School Gender   Race  \\\n",
       "count         224                             224    224    224   \n",
       "unique        224                               3      2      5   \n",
       "top     917200432  San Francisco State University   Male  Asian   \n",
       "freq            1                             148    121    115   \n",
       "\n",
       "                Local  Full Time            Future       Effectiveness  \\\n",
       "count             224        224               224                 224   \n",
       "unique              2          2                 4                   4   \n",
       "top     Local Student  Full time  Somewhat helpful  Somewhat effective   \n",
       "freq              181        212               134                 122   \n",
       "\n",
       "       Online Supplement     Supplement Use  \n",
       "count                224                224  \n",
       "unique                 4                  4  \n",
       "top     Somewhat helpful  Not too difficult  \n",
       "freq                 102                114  "
      ]
     },
     "execution_count": 45,
     "metadata": {},
     "output_type": "execute_result"
    }
   ],
   "source": [
    "econ_df.describe(include='all')"
   ]
  },
  {
   "cell_type": "code",
   "execution_count": 47,
   "metadata": {},
   "outputs": [],
   "source": [
    "# Loading the Health Survey data set\n",
    "health_df = pd.read_csv('./Data/2016FA_Health_Survey.csv')"
   ]
  },
  {
   "cell_type": "code",
   "execution_count": 48,
   "metadata": {},
   "outputs": [
    {
     "data": {
      "text/html": [
       "<div>\n",
       "<style scoped>\n",
       "    .dataframe tbody tr th:only-of-type {\n",
       "        vertical-align: middle;\n",
       "    }\n",
       "\n",
       "    .dataframe tbody tr th {\n",
       "        vertical-align: top;\n",
       "    }\n",
       "\n",
       "    .dataframe thead th {\n",
       "        text-align: right;\n",
       "    }\n",
       "</style>\n",
       "<table border=\"1\" class=\"dataframe\">\n",
       "  <thead>\n",
       "    <tr style=\"text-align: right;\">\n",
       "      <th></th>\n",
       "      <th>id</th>\n",
       "      <th>Feet</th>\n",
       "      <th>Inches</th>\n",
       "      <th>Weight</th>\n",
       "      <th>Exercise per Week</th>\n",
       "      <th>Exercise Time</th>\n",
       "      <th>Read Label</th>\n",
       "      <th>Taste</th>\n",
       "      <th>Price</th>\n",
       "      <th>Nutrition</th>\n",
       "      <th>Presentation</th>\n",
       "      <th>Appearance</th>\n",
       "      <th>Health</th>\n",
       "      <th>Parents Overweight</th>\n",
       "    </tr>\n",
       "  </thead>\n",
       "  <tbody>\n",
       "    <tr>\n",
       "      <th>0</th>\n",
       "      <td>916607086</td>\n",
       "      <td>6.0</td>\n",
       "      <td>0.0</td>\n",
       "      <td>220.0</td>\n",
       "      <td>5 to 7 days a week</td>\n",
       "      <td>Over an hour</td>\n",
       "      <td>Always</td>\n",
       "      <td>3.0</td>\n",
       "      <td>1.0</td>\n",
       "      <td>2.0</td>\n",
       "      <td>4.0</td>\n",
       "      <td>Yes</td>\n",
       "      <td>Yes</td>\n",
       "      <td>No</td>\n",
       "    </tr>\n",
       "    <tr>\n",
       "      <th>1</th>\n",
       "      <td>916077115</td>\n",
       "      <td>5.0</td>\n",
       "      <td>7.0</td>\n",
       "      <td>137.0</td>\n",
       "      <td>2 to 4 days a week</td>\n",
       "      <td>Over an hour</td>\n",
       "      <td>Often</td>\n",
       "      <td>4.0</td>\n",
       "      <td>1.0</td>\n",
       "      <td>2.0</td>\n",
       "      <td>3.0</td>\n",
       "      <td>Yes</td>\n",
       "      <td>Yes</td>\n",
       "      <td>No</td>\n",
       "    </tr>\n",
       "    <tr>\n",
       "      <th>2</th>\n",
       "      <td>916082731</td>\n",
       "      <td>5.0</td>\n",
       "      <td>10.0</td>\n",
       "      <td>150.0</td>\n",
       "      <td>2 to 4 days a week</td>\n",
       "      <td>30 - 40 minutes</td>\n",
       "      <td>Often</td>\n",
       "      <td>1.0</td>\n",
       "      <td>3.0</td>\n",
       "      <td>2.0</td>\n",
       "      <td>4.0</td>\n",
       "      <td>Yes</td>\n",
       "      <td>Yes</td>\n",
       "      <td>No</td>\n",
       "    </tr>\n",
       "    <tr>\n",
       "      <th>3</th>\n",
       "      <td>917218853</td>\n",
       "      <td>6.0</td>\n",
       "      <td>2.0</td>\n",
       "      <td>210.0</td>\n",
       "      <td>2 to 4 days a week</td>\n",
       "      <td>40 - 50 minutes</td>\n",
       "      <td>Often</td>\n",
       "      <td>1.0</td>\n",
       "      <td>3.0</td>\n",
       "      <td>2.0</td>\n",
       "      <td>4.0</td>\n",
       "      <td>Yes</td>\n",
       "      <td>Yes</td>\n",
       "      <td>No</td>\n",
       "    </tr>\n",
       "    <tr>\n",
       "      <th>4</th>\n",
       "      <td>916209091</td>\n",
       "      <td>5.0</td>\n",
       "      <td>9.0</td>\n",
       "      <td>163.0</td>\n",
       "      <td>2 to 4 days a week</td>\n",
       "      <td>Over an hour</td>\n",
       "      <td>Always</td>\n",
       "      <td>2.0</td>\n",
       "      <td>1.0</td>\n",
       "      <td>3.0</td>\n",
       "      <td>4.0</td>\n",
       "      <td>Yes</td>\n",
       "      <td>Yes</td>\n",
       "      <td>No</td>\n",
       "    </tr>\n",
       "  </tbody>\n",
       "</table>\n",
       "</div>"
      ],
      "text/plain": [
       "          id  Feet  Inches  Weight   Exercise per Week    Exercise Time  \\\n",
       "0  916607086   6.0     0.0   220.0  5 to 7 days a week     Over an hour   \n",
       "1  916077115   5.0     7.0   137.0  2 to 4 days a week     Over an hour   \n",
       "2  916082731   5.0    10.0   150.0  2 to 4 days a week  30 - 40 minutes   \n",
       "3  917218853   6.0     2.0   210.0  2 to 4 days a week  40 - 50 minutes   \n",
       "4  916209091   5.0     9.0   163.0  2 to 4 days a week     Over an hour   \n",
       "\n",
       "  Read Label  Taste  Price  Nutrition  Presentation Appearance Health  \\\n",
       "0     Always    3.0    1.0        2.0           4.0        Yes    Yes   \n",
       "1      Often    4.0    1.0        2.0           3.0        Yes    Yes   \n",
       "2      Often    1.0    3.0        2.0           4.0        Yes    Yes   \n",
       "3      Often    1.0    3.0        2.0           4.0        Yes    Yes   \n",
       "4     Always    2.0    1.0        3.0           4.0        Yes    Yes   \n",
       "\n",
       "  Parents Overweight  \n",
       "0                 No  \n",
       "1                 No  \n",
       "2                 No  \n",
       "3                 No  \n",
       "4                 No  "
      ]
     },
     "execution_count": 48,
     "metadata": {},
     "output_type": "execute_result"
    }
   ],
   "source": [
    "health_df.head()"
   ]
  },
  {
   "cell_type": "code",
   "execution_count": 52,
   "metadata": {},
   "outputs": [
    {
     "name": "stdout",
     "output_type": "stream",
     "text": [
      "<class 'pandas.core.frame.DataFrame'>\n",
      "RangeIndex: 222 entries, 0 to 221\n",
      "Data columns (total 14 columns):\n",
      "id                    222 non-null object\n",
      "Feet                  220 non-null float64\n",
      "Inches                220 non-null float64\n",
      "Weight                221 non-null float64\n",
      "Exercise per Week     222 non-null object\n",
      "Exercise Time         221 non-null object\n",
      "Read Label            222 non-null object\n",
      "Taste                 209 non-null float64\n",
      "Price                 210 non-null float64\n",
      "Nutrition             209 non-null float64\n",
      "Presentation          221 non-null float64\n",
      "Appearance            222 non-null object\n",
      "Health                222 non-null object\n",
      "Parents Overweight    222 non-null object\n",
      "dtypes: float64(7), object(7)\n",
      "memory usage: 24.4+ KB\n"
     ]
    }
   ],
   "source": [
    "health_df.info()"
   ]
  },
  {
   "cell_type": "code",
   "execution_count": 50,
   "metadata": {},
   "outputs": [],
   "source": [
    "# Loading the Grade data set\n",
    "grade_df = pd.read_csv('./Data/2016FA_Grade.csv')"
   ]
  },
  {
   "cell_type": "code",
   "execution_count": 51,
   "metadata": {},
   "outputs": [
    {
     "data": {
      "text/html": [
       "<div>\n",
       "<style scoped>\n",
       "    .dataframe tbody tr th:only-of-type {\n",
       "        vertical-align: middle;\n",
       "    }\n",
       "\n",
       "    .dataframe tbody tr th {\n",
       "        vertical-align: top;\n",
       "    }\n",
       "\n",
       "    .dataframe thead th {\n",
       "        text-align: right;\n",
       "    }\n",
       "</style>\n",
       "<table border=\"1\" class=\"dataframe\">\n",
       "  <thead>\n",
       "    <tr style=\"text-align: right;\">\n",
       "      <th></th>\n",
       "      <th>ID</th>\n",
       "      <th>Final</th>\n",
       "      <th>Attend</th>\n",
       "      <th>Year</th>\n",
       "      <th>Semester</th>\n",
       "      <th>Class</th>\n",
       "      <th>Platform</th>\n",
       "    </tr>\n",
       "  </thead>\n",
       "  <tbody>\n",
       "    <tr>\n",
       "      <th>0</th>\n",
       "      <td>@00293014</td>\n",
       "      <td>0.777106</td>\n",
       "      <td>0.684211</td>\n",
       "      <td>2016</td>\n",
       "      <td>Fall</td>\n",
       "      <td>102</td>\n",
       "      <td>EconLab</td>\n",
       "    </tr>\n",
       "    <tr>\n",
       "      <th>1</th>\n",
       "      <td>W10609805</td>\n",
       "      <td>0.943429</td>\n",
       "      <td>0.736842</td>\n",
       "      <td>2016</td>\n",
       "      <td>Fall</td>\n",
       "      <td>102</td>\n",
       "      <td>EconLab</td>\n",
       "    </tr>\n",
       "    <tr>\n",
       "      <th>2</th>\n",
       "      <td>W10372291</td>\n",
       "      <td>0.741858</td>\n",
       "      <td>0.631579</td>\n",
       "      <td>2016</td>\n",
       "      <td>Fall</td>\n",
       "      <td>102</td>\n",
       "      <td>EconLab</td>\n",
       "    </tr>\n",
       "    <tr>\n",
       "      <th>3</th>\n",
       "      <td>@00293246</td>\n",
       "      <td>0.692772</td>\n",
       "      <td>0.684211</td>\n",
       "      <td>2016</td>\n",
       "      <td>Fall</td>\n",
       "      <td>102</td>\n",
       "      <td>EconLab</td>\n",
       "    </tr>\n",
       "    <tr>\n",
       "      <th>4</th>\n",
       "      <td>@00283469</td>\n",
       "      <td>0.680000</td>\n",
       "      <td>0.710526</td>\n",
       "      <td>2016</td>\n",
       "      <td>Fall</td>\n",
       "      <td>102</td>\n",
       "      <td>EconLab</td>\n",
       "    </tr>\n",
       "  </tbody>\n",
       "</table>\n",
       "</div>"
      ],
      "text/plain": [
       "          ID     Final    Attend  Year Semester  Class Platform\n",
       "0  @00293014  0.777106  0.684211  2016     Fall    102  EconLab\n",
       "1  W10609805  0.943429  0.736842  2016     Fall    102  EconLab\n",
       "2  W10372291  0.741858  0.631579  2016     Fall    102  EconLab\n",
       "3  @00293246  0.692772  0.684211  2016     Fall    102  EconLab\n",
       "4  @00283469  0.680000  0.710526  2016     Fall    102  EconLab"
      ]
     },
     "execution_count": 51,
     "metadata": {},
     "output_type": "execute_result"
    }
   ],
   "source": [
    "grade_df.head()"
   ]
  },
  {
   "cell_type": "code",
   "execution_count": 53,
   "metadata": {},
   "outputs": [
    {
     "name": "stdout",
     "output_type": "stream",
     "text": [
      "<class 'pandas.core.frame.DataFrame'>\n",
      "RangeIndex: 295 entries, 0 to 294\n",
      "Data columns (total 7 columns):\n",
      "ID          295 non-null object\n",
      "Final       295 non-null float64\n",
      "Attend      295 non-null float64\n",
      "Year        295 non-null int64\n",
      "Semester    295 non-null object\n",
      "Class       295 non-null int64\n",
      "Platform    295 non-null object\n",
      "dtypes: float64(2), int64(2), object(3)\n",
      "memory usage: 16.3+ KB\n"
     ]
    }
   ],
   "source": [
    "grade_df.info()"
   ]
  },
  {
   "cell_type": "code",
   "execution_count": null,
   "metadata": {},
   "outputs": [],
   "source": []
  }
 ],
 "metadata": {
  "kernelspec": {
   "display_name": "Python 3",
   "language": "python",
   "name": "python3"
  },
  "language_info": {
   "codemirror_mode": {
    "name": "ipython",
    "version": 3
   },
   "file_extension": ".py",
   "mimetype": "text/x-python",
   "name": "python",
   "nbconvert_exporter": "python",
   "pygments_lexer": "ipython3",
   "version": "3.7.1"
  }
 },
 "nbformat": 4,
 "nbformat_minor": 2
}
