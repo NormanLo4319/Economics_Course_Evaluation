{
 "cells": [
  {
   "cell_type": "markdown",
   "metadata": {},
   "source": [
    "# Student Health Survey Anaylsis"
   ]
  },
  {
   "cell_type": "code",
   "execution_count": 1,
   "metadata": {},
   "outputs": [],
   "source": [
    "import pandas as pd\n",
    "import numpy as np\n",
    "import scipy as sp\n",
    "import matplotlib.pyplot as plt\n",
    "import seaborn as sns\n",
    "sns.set(style=\"ticks\", color_codes=True)\n",
    "from statsmodels.graphics.mosaicplot import mosaic\n",
    "%matplotlib inline"
   ]
  },
  {
   "cell_type": "code",
   "execution_count": 2,
   "metadata": {},
   "outputs": [
    {
     "data": {
      "text/html": [
       "<div>\n",
       "<style scoped>\n",
       "    .dataframe tbody tr th:only-of-type {\n",
       "        vertical-align: middle;\n",
       "    }\n",
       "\n",
       "    .dataframe tbody tr th {\n",
       "        vertical-align: top;\n",
       "    }\n",
       "\n",
       "    .dataframe thead th {\n",
       "        text-align: right;\n",
       "    }\n",
       "</style>\n",
       "<table border=\"1\" class=\"dataframe\">\n",
       "  <thead>\n",
       "    <tr style=\"text-align: right;\">\n",
       "      <th></th>\n",
       "      <th>id</th>\n",
       "      <th>Feet</th>\n",
       "      <th>Inches</th>\n",
       "      <th>Weight</th>\n",
       "      <th>Exercise per Week</th>\n",
       "      <th>Exercise Time</th>\n",
       "      <th>Read Label</th>\n",
       "      <th>Taste</th>\n",
       "      <th>Price</th>\n",
       "      <th>Nutrition</th>\n",
       "      <th>Presentation</th>\n",
       "      <th>Appearance</th>\n",
       "      <th>Health</th>\n",
       "      <th>Parents Overweight</th>\n",
       "    </tr>\n",
       "  </thead>\n",
       "  <tbody>\n",
       "    <tr>\n",
       "      <th>0</th>\n",
       "      <td>916607086</td>\n",
       "      <td>6.0</td>\n",
       "      <td>0.0</td>\n",
       "      <td>220.0</td>\n",
       "      <td>5 to 7 days a week</td>\n",
       "      <td>Over an hour</td>\n",
       "      <td>Always</td>\n",
       "      <td>3.0</td>\n",
       "      <td>1.0</td>\n",
       "      <td>2.0</td>\n",
       "      <td>4.0</td>\n",
       "      <td>Yes</td>\n",
       "      <td>Yes</td>\n",
       "      <td>No</td>\n",
       "    </tr>\n",
       "    <tr>\n",
       "      <th>1</th>\n",
       "      <td>916077115</td>\n",
       "      <td>5.0</td>\n",
       "      <td>7.0</td>\n",
       "      <td>137.0</td>\n",
       "      <td>2 to 4 days a week</td>\n",
       "      <td>Over an hour</td>\n",
       "      <td>Often</td>\n",
       "      <td>4.0</td>\n",
       "      <td>1.0</td>\n",
       "      <td>2.0</td>\n",
       "      <td>3.0</td>\n",
       "      <td>Yes</td>\n",
       "      <td>Yes</td>\n",
       "      <td>No</td>\n",
       "    </tr>\n",
       "    <tr>\n",
       "      <th>2</th>\n",
       "      <td>916082731</td>\n",
       "      <td>5.0</td>\n",
       "      <td>10.0</td>\n",
       "      <td>150.0</td>\n",
       "      <td>2 to 4 days a week</td>\n",
       "      <td>30 - 40 minutes</td>\n",
       "      <td>Often</td>\n",
       "      <td>1.0</td>\n",
       "      <td>3.0</td>\n",
       "      <td>2.0</td>\n",
       "      <td>4.0</td>\n",
       "      <td>Yes</td>\n",
       "      <td>Yes</td>\n",
       "      <td>No</td>\n",
       "    </tr>\n",
       "    <tr>\n",
       "      <th>3</th>\n",
       "      <td>917218853</td>\n",
       "      <td>6.0</td>\n",
       "      <td>2.0</td>\n",
       "      <td>210.0</td>\n",
       "      <td>2 to 4 days a week</td>\n",
       "      <td>40 - 50 minutes</td>\n",
       "      <td>Often</td>\n",
       "      <td>1.0</td>\n",
       "      <td>3.0</td>\n",
       "      <td>2.0</td>\n",
       "      <td>4.0</td>\n",
       "      <td>Yes</td>\n",
       "      <td>Yes</td>\n",
       "      <td>No</td>\n",
       "    </tr>\n",
       "    <tr>\n",
       "      <th>4</th>\n",
       "      <td>916209091</td>\n",
       "      <td>5.0</td>\n",
       "      <td>9.0</td>\n",
       "      <td>163.0</td>\n",
       "      <td>2 to 4 days a week</td>\n",
       "      <td>Over an hour</td>\n",
       "      <td>Always</td>\n",
       "      <td>2.0</td>\n",
       "      <td>1.0</td>\n",
       "      <td>3.0</td>\n",
       "      <td>4.0</td>\n",
       "      <td>Yes</td>\n",
       "      <td>Yes</td>\n",
       "      <td>No</td>\n",
       "    </tr>\n",
       "  </tbody>\n",
       "</table>\n",
       "</div>"
      ],
      "text/plain": [
       "          id  Feet  Inches  Weight   Exercise per Week    Exercise Time  \\\n",
       "0  916607086   6.0     0.0   220.0  5 to 7 days a week     Over an hour   \n",
       "1  916077115   5.0     7.0   137.0  2 to 4 days a week     Over an hour   \n",
       "2  916082731   5.0    10.0   150.0  2 to 4 days a week  30 - 40 minutes   \n",
       "3  917218853   6.0     2.0   210.0  2 to 4 days a week  40 - 50 minutes   \n",
       "4  916209091   5.0     9.0   163.0  2 to 4 days a week     Over an hour   \n",
       "\n",
       "  Read Label  Taste  Price  Nutrition  Presentation Appearance Health  \\\n",
       "0     Always    3.0    1.0        2.0           4.0        Yes    Yes   \n",
       "1      Often    4.0    1.0        2.0           3.0        Yes    Yes   \n",
       "2      Often    1.0    3.0        2.0           4.0        Yes    Yes   \n",
       "3      Often    1.0    3.0        2.0           4.0        Yes    Yes   \n",
       "4     Always    2.0    1.0        3.0           4.0        Yes    Yes   \n",
       "\n",
       "  Parents Overweight  \n",
       "0                 No  \n",
       "1                 No  \n",
       "2                 No  \n",
       "3                 No  \n",
       "4                 No  "
      ]
     },
     "execution_count": 2,
     "metadata": {},
     "output_type": "execute_result"
    }
   ],
   "source": [
    "# Importing the Economics Survey data\n",
    "health_df = pd.read_csv('./data/2016FA_Health_Survey.csv')\n",
    "health_df.head()"
   ]
  },
  {
   "cell_type": "code",
   "execution_count": 3,
   "metadata": {},
   "outputs": [
    {
     "name": "stdout",
     "output_type": "stream",
     "text": [
      "<class 'pandas.core.frame.DataFrame'>\n",
      "RangeIndex: 222 entries, 0 to 221\n",
      "Data columns (total 14 columns):\n",
      "id                    222 non-null object\n",
      "Feet                  220 non-null float64\n",
      "Inches                220 non-null float64\n",
      "Weight                221 non-null float64\n",
      "Exercise per Week     222 non-null object\n",
      "Exercise Time         221 non-null object\n",
      "Read Label            222 non-null object\n",
      "Taste                 209 non-null float64\n",
      "Price                 210 non-null float64\n",
      "Nutrition             209 non-null float64\n",
      "Presentation          221 non-null float64\n",
      "Appearance            222 non-null object\n",
      "Health                222 non-null object\n",
      "Parents Overweight    222 non-null object\n",
      "dtypes: float64(7), object(7)\n",
      "memory usage: 24.4+ KB\n"
     ]
    }
   ],
   "source": [
    "health_df.info()"
   ]
  },
  {
   "cell_type": "code",
   "execution_count": 6,
   "metadata": {},
   "outputs": [
    {
     "data": {
      "text/html": [
       "<div>\n",
       "<style scoped>\n",
       "    .dataframe tbody tr th:only-of-type {\n",
       "        vertical-align: middle;\n",
       "    }\n",
       "\n",
       "    .dataframe tbody tr th {\n",
       "        vertical-align: top;\n",
       "    }\n",
       "\n",
       "    .dataframe thead th {\n",
       "        text-align: right;\n",
       "    }\n",
       "</style>\n",
       "<table border=\"1\" class=\"dataframe\">\n",
       "  <thead>\n",
       "    <tr style=\"text-align: right;\">\n",
       "      <th></th>\n",
       "      <th>id</th>\n",
       "      <th>Feet</th>\n",
       "      <th>Inches</th>\n",
       "      <th>Weight</th>\n",
       "      <th>Exercise per Week</th>\n",
       "      <th>Exercise Time</th>\n",
       "      <th>Read Label</th>\n",
       "      <th>Taste</th>\n",
       "      <th>Price</th>\n",
       "      <th>Nutrition</th>\n",
       "      <th>Presentation</th>\n",
       "      <th>Appearance</th>\n",
       "      <th>Health</th>\n",
       "      <th>Parents Overweight</th>\n",
       "    </tr>\n",
       "  </thead>\n",
       "  <tbody>\n",
       "    <tr>\n",
       "      <th>count</th>\n",
       "      <td>222</td>\n",
       "      <td>220.00000</td>\n",
       "      <td>220.000000</td>\n",
       "      <td>221.000000</td>\n",
       "      <td>222</td>\n",
       "      <td>221</td>\n",
       "      <td>222</td>\n",
       "      <td>209.000000</td>\n",
       "      <td>210.000000</td>\n",
       "      <td>209.000000</td>\n",
       "      <td>221.000000</td>\n",
       "      <td>222</td>\n",
       "      <td>222</td>\n",
       "      <td>222</td>\n",
       "    </tr>\n",
       "    <tr>\n",
       "      <th>unique</th>\n",
       "      <td>222</td>\n",
       "      <td>NaN</td>\n",
       "      <td>NaN</td>\n",
       "      <td>NaN</td>\n",
       "      <td>4</td>\n",
       "      <td>5</td>\n",
       "      <td>5</td>\n",
       "      <td>NaN</td>\n",
       "      <td>NaN</td>\n",
       "      <td>NaN</td>\n",
       "      <td>NaN</td>\n",
       "      <td>2</td>\n",
       "      <td>2</td>\n",
       "      <td>3</td>\n",
       "    </tr>\n",
       "    <tr>\n",
       "      <th>top</th>\n",
       "      <td>916996358</td>\n",
       "      <td>NaN</td>\n",
       "      <td>NaN</td>\n",
       "      <td>NaN</td>\n",
       "      <td>2 to 4 days a week</td>\n",
       "      <td>Over an hour</td>\n",
       "      <td>Sometime</td>\n",
       "      <td>NaN</td>\n",
       "      <td>NaN</td>\n",
       "      <td>NaN</td>\n",
       "      <td>NaN</td>\n",
       "      <td>Yes</td>\n",
       "      <td>Yes</td>\n",
       "      <td>No</td>\n",
       "    </tr>\n",
       "    <tr>\n",
       "      <th>freq</th>\n",
       "      <td>1</td>\n",
       "      <td>NaN</td>\n",
       "      <td>NaN</td>\n",
       "      <td>NaN</td>\n",
       "      <td>93</td>\n",
       "      <td>88</td>\n",
       "      <td>77</td>\n",
       "      <td>NaN</td>\n",
       "      <td>NaN</td>\n",
       "      <td>NaN</td>\n",
       "      <td>NaN</td>\n",
       "      <td>205</td>\n",
       "      <td>212</td>\n",
       "      <td>165</td>\n",
       "    </tr>\n",
       "    <tr>\n",
       "      <th>mean</th>\n",
       "      <td>NaN</td>\n",
       "      <td>5.15000</td>\n",
       "      <td>5.359091</td>\n",
       "      <td>144.714932</td>\n",
       "      <td>NaN</td>\n",
       "      <td>NaN</td>\n",
       "      <td>NaN</td>\n",
       "      <td>2.028708</td>\n",
       "      <td>2.152381</td>\n",
       "      <td>2.631579</td>\n",
       "      <td>3.076923</td>\n",
       "      <td>NaN</td>\n",
       "      <td>NaN</td>\n",
       "      <td>NaN</td>\n",
       "    </tr>\n",
       "    <tr>\n",
       "      <th>std</th>\n",
       "      <td>NaN</td>\n",
       "      <td>0.54918</td>\n",
       "      <td>3.325995</td>\n",
       "      <td>35.645415</td>\n",
       "      <td>NaN</td>\n",
       "      <td>NaN</td>\n",
       "      <td>NaN</td>\n",
       "      <td>1.064794</td>\n",
       "      <td>1.047037</td>\n",
       "      <td>0.962348</td>\n",
       "      <td>1.065347</td>\n",
       "      <td>NaN</td>\n",
       "      <td>NaN</td>\n",
       "      <td>NaN</td>\n",
       "    </tr>\n",
       "    <tr>\n",
       "      <th>min</th>\n",
       "      <td>NaN</td>\n",
       "      <td>4.00000</td>\n",
       "      <td>0.000000</td>\n",
       "      <td>30.000000</td>\n",
       "      <td>NaN</td>\n",
       "      <td>NaN</td>\n",
       "      <td>NaN</td>\n",
       "      <td>1.000000</td>\n",
       "      <td>1.000000</td>\n",
       "      <td>1.000000</td>\n",
       "      <td>1.000000</td>\n",
       "      <td>NaN</td>\n",
       "      <td>NaN</td>\n",
       "      <td>NaN</td>\n",
       "    </tr>\n",
       "    <tr>\n",
       "      <th>25%</th>\n",
       "      <td>NaN</td>\n",
       "      <td>5.00000</td>\n",
       "      <td>3.000000</td>\n",
       "      <td>121.000000</td>\n",
       "      <td>NaN</td>\n",
       "      <td>NaN</td>\n",
       "      <td>NaN</td>\n",
       "      <td>1.000000</td>\n",
       "      <td>1.000000</td>\n",
       "      <td>2.000000</td>\n",
       "      <td>2.000000</td>\n",
       "      <td>NaN</td>\n",
       "      <td>NaN</td>\n",
       "      <td>NaN</td>\n",
       "    </tr>\n",
       "    <tr>\n",
       "      <th>50%</th>\n",
       "      <td>NaN</td>\n",
       "      <td>5.00000</td>\n",
       "      <td>5.000000</td>\n",
       "      <td>140.000000</td>\n",
       "      <td>NaN</td>\n",
       "      <td>NaN</td>\n",
       "      <td>NaN</td>\n",
       "      <td>2.000000</td>\n",
       "      <td>2.000000</td>\n",
       "      <td>3.000000</td>\n",
       "      <td>3.000000</td>\n",
       "      <td>NaN</td>\n",
       "      <td>NaN</td>\n",
       "      <td>NaN</td>\n",
       "    </tr>\n",
       "    <tr>\n",
       "      <th>75%</th>\n",
       "      <td>NaN</td>\n",
       "      <td>5.00000</td>\n",
       "      <td>8.000000</td>\n",
       "      <td>160.000000</td>\n",
       "      <td>NaN</td>\n",
       "      <td>NaN</td>\n",
       "      <td>NaN</td>\n",
       "      <td>3.000000</td>\n",
       "      <td>3.000000</td>\n",
       "      <td>3.000000</td>\n",
       "      <td>4.000000</td>\n",
       "      <td>NaN</td>\n",
       "      <td>NaN</td>\n",
       "      <td>NaN</td>\n",
       "    </tr>\n",
       "    <tr>\n",
       "      <th>max</th>\n",
       "      <td>NaN</td>\n",
       "      <td>11.00000</td>\n",
       "      <td>11.000000</td>\n",
       "      <td>377.000000</td>\n",
       "      <td>NaN</td>\n",
       "      <td>NaN</td>\n",
       "      <td>NaN</td>\n",
       "      <td>4.000000</td>\n",
       "      <td>4.000000</td>\n",
       "      <td>4.000000</td>\n",
       "      <td>4.000000</td>\n",
       "      <td>NaN</td>\n",
       "      <td>NaN</td>\n",
       "      <td>NaN</td>\n",
       "    </tr>\n",
       "  </tbody>\n",
       "</table>\n",
       "</div>"
      ],
      "text/plain": [
       "               id       Feet      Inches      Weight   Exercise per Week  \\\n",
       "count         222  220.00000  220.000000  221.000000                 222   \n",
       "unique        222        NaN         NaN         NaN                   4   \n",
       "top     916996358        NaN         NaN         NaN  2 to 4 days a week   \n",
       "freq            1        NaN         NaN         NaN                  93   \n",
       "mean          NaN    5.15000    5.359091  144.714932                 NaN   \n",
       "std           NaN    0.54918    3.325995   35.645415                 NaN   \n",
       "min           NaN    4.00000    0.000000   30.000000                 NaN   \n",
       "25%           NaN    5.00000    3.000000  121.000000                 NaN   \n",
       "50%           NaN    5.00000    5.000000  140.000000                 NaN   \n",
       "75%           NaN    5.00000    8.000000  160.000000                 NaN   \n",
       "max           NaN   11.00000   11.000000  377.000000                 NaN   \n",
       "\n",
       "       Exercise Time Read Label       Taste       Price   Nutrition  \\\n",
       "count            221        222  209.000000  210.000000  209.000000   \n",
       "unique             5          5         NaN         NaN         NaN   \n",
       "top     Over an hour   Sometime         NaN         NaN         NaN   \n",
       "freq              88         77         NaN         NaN         NaN   \n",
       "mean             NaN        NaN    2.028708    2.152381    2.631579   \n",
       "std              NaN        NaN    1.064794    1.047037    0.962348   \n",
       "min              NaN        NaN    1.000000    1.000000    1.000000   \n",
       "25%              NaN        NaN    1.000000    1.000000    2.000000   \n",
       "50%              NaN        NaN    2.000000    2.000000    3.000000   \n",
       "75%              NaN        NaN    3.000000    3.000000    3.000000   \n",
       "max              NaN        NaN    4.000000    4.000000    4.000000   \n",
       "\n",
       "        Presentation Appearance Health Parents Overweight  \n",
       "count     221.000000        222    222                222  \n",
       "unique           NaN          2      2                  3  \n",
       "top              NaN        Yes    Yes                 No  \n",
       "freq             NaN        205    212                165  \n",
       "mean        3.076923        NaN    NaN                NaN  \n",
       "std         1.065347        NaN    NaN                NaN  \n",
       "min         1.000000        NaN    NaN                NaN  \n",
       "25%         2.000000        NaN    NaN                NaN  \n",
       "50%         3.000000        NaN    NaN                NaN  \n",
       "75%         4.000000        NaN    NaN                NaN  \n",
       "max         4.000000        NaN    NaN                NaN  "
      ]
     },
     "execution_count": 6,
     "metadata": {},
     "output_type": "execute_result"
    }
   ],
   "source": [
    "health_df.describe(include='all')"
   ]
  },
  {
   "cell_type": "code",
   "execution_count": 7,
   "metadata": {},
   "outputs": [],
   "source": [
    "health_cat = health_df[['Exercise per Week', 'Exercise Time', 'Read Label', 'Appearance', 'Health', 'Parents Overweight']]"
   ]
  },
  {
   "cell_type": "code",
   "execution_count": 8,
   "metadata": {},
   "outputs": [
    {
     "name": "stdout",
     "output_type": "stream",
     "text": [
      "Total Counts Table: Exercise per Week\n",
      "2 to 4 days a week            93\n",
      "I don't regularly exercise    59\n",
      "Once a week                   51\n",
      "5 to 7 days a week            19\n",
      "Name: Exercise per Week, dtype: int64\n",
      "\n",
      "Proportion Table: Exercise per Week\n",
      "2 to 4 days a week            41.89%\n",
      "I don't regularly exercise    26.58%\n",
      "Once a week                   22.97%\n",
      "5 to 7 days a week             8.56%\n",
      "Name: Exercise per Week, dtype: object\n",
      "-----------------------------------------\n",
      "Total Counts Table: Exercise Time\n",
      "Over an hour       88\n",
      "40 - 50 minutes    41\n",
      "30 - 40 minutes    36\n",
      "20 - 30 minutes    35\n",
      "10 - 20 minutes    21\n",
      "Name: Exercise Time, dtype: int64\n",
      "\n",
      "Proportion Table: Exercise Time\n",
      "Over an hour       39.82%\n",
      "40 - 50 minutes    18.55%\n",
      "30 - 40 minutes    16.29%\n",
      "20 - 30 minutes    15.84%\n",
      "10 - 20 minutes      9.5%\n",
      "Name: Exercise Time, dtype: object\n",
      "-----------------------------------------\n",
      "Total Counts Table: Read Label\n",
      "Sometime         77\n",
      "Not too often    52\n",
      "Often            44\n",
      "Never            26\n",
      "Always           23\n",
      "Name: Read Label, dtype: int64\n",
      "\n",
      "Proportion Table: Read Label\n",
      "Sometime         34.68%\n",
      "Not too often    23.42%\n",
      "Often            19.82%\n",
      "Never            11.71%\n",
      "Always           10.36%\n",
      "Name: Read Label, dtype: object\n",
      "-----------------------------------------\n",
      "Total Counts Table: Appearance\n",
      "Yes    205\n",
      "No      17\n",
      "Name: Appearance, dtype: int64\n",
      "\n",
      "Proportion Table: Appearance\n",
      "Yes    92.34%\n",
      "No      7.66%\n",
      "Name: Appearance, dtype: object\n",
      "-----------------------------------------\n",
      "Total Counts Table: Health\n",
      "Yes    212\n",
      "No      10\n",
      "Name: Health, dtype: int64\n",
      "\n",
      "Proportion Table: Health\n",
      "Yes    95.5%\n",
      "No      4.5%\n",
      "Name: Health, dtype: object\n",
      "-----------------------------------------\n",
      "Total Counts Table: Parents Overweight\n",
      "No          165\n",
      "Yes          33\n",
      "Not sure     24\n",
      "Name: Parents Overweight, dtype: int64\n",
      "\n",
      "Proportion Table: Parents Overweight\n",
      "No          74.32%\n",
      "Yes         14.86%\n",
      "Not sure    10.81%\n",
      "Name: Parents Overweight, dtype: object\n",
      "-----------------------------------------\n"
     ]
    }
   ],
   "source": [
    "# Report the repsonses in each column\n",
    "for i in health_cat.columns[0:6]:\n",
    "    print(f'Total Counts Table: {i}')\n",
    "    table = health_cat[i].value_counts()\n",
    "    print(table) \n",
    "    print('')\n",
    "    print(f'Proportion Table: {i}')\n",
    "    prop = health_cat[i].value_counts(normalize=True).mul(100).round(2).astype(str) + '%'\n",
    "    print(prop)\n",
    "    print('-----------------------------------------')"
   ]
  },
  {
   "cell_type": "code",
   "execution_count": 9,
   "metadata": {},
   "outputs": [
    {
     "data": {
      "image/png": "[encoded data removed]",
      "text/plain": [
       "<Figure size 432x288 with 1 Axes>"
      ]
     },
     "metadata": {
      "needs_background": "light"
     },
     "output_type": "display_data"
    }
   ],
   "source": [
    "# Plot the students' responses with horizontal bar plot\n",
    "ax = sns.countplot(y=health_df['Exercise per Week'])"
   ]
  },
  {
   "cell_type": "code",
   "execution_count": 10,
   "metadata": {},
   "outputs": [
    {
     "data": {
      "image/png": "[encoded data removed]",
      "text/plain": [
       "<Figure size 432x288 with 1 Axes>"
      ]
     },
     "metadata": {
      "needs_background": "light"
     },
     "output_type": "display_data"
    }
   ],
   "source": [
    "ax = sns.countplot(y=health_df['Exercise Time'])"
   ]
  },
  {
   "cell_type": "code",
   "execution_count": 12,
   "metadata": {},
   "outputs": [
    {
     "data": {
      "image/png": "[encoded data removed]",
      "text/plain": [
       "<Figure size 432x288 with 1 Axes>"
      ]
     },
     "metadata": {
      "needs_background": "light"
     },
     "output_type": "display_data"
    }
   ],
   "source": [
    "ax = sns.countplot(y=health_df['Read Label'])"
   ]
  },
  {
   "cell_type": "code",
   "execution_count": 13,
   "metadata": {},
   "outputs": [
    {
     "data": {
      "image/png": "[encoded data removed]",
      "text/plain": [
       "<Figure size 432x288 with 1 Axes>"
      ]
     },
     "metadata": {
      "needs_background": "light"
     },
     "output_type": "display_data"
    }
   ],
   "source": [
    "ax = sns.countplot(y=health_df['Appearance'])"
   ]
  },
  {
   "cell_type": "code",
   "execution_count": 14,
   "metadata": {},
   "outputs": [
    {
     "data": {
      "image/png": "[encoded data removed]",
      "text/plain": [
       "<Figure size 432x288 with 1 Axes>"
      ]
     },
     "metadata": {
      "needs_background": "light"
     },
     "output_type": "display_data"
    }
   ],
   "source": [
    "ax = sns.countplot(y=health_df['Health'])"
   ]
  },
  {
   "cell_type": "code",
   "execution_count": 15,
   "metadata": {},
   "outputs": [
    {
     "data": {
      "image/png": "[encoded data removed]",
      "text/plain": [
       "<Figure size 432x288 with 1 Axes>"
      ]
     },
     "metadata": {
      "needs_background": "light"
     },
     "output_type": "display_data"
    }
   ],
   "source": [
    "ax = sns.countplot(y=health_df['Parents Overweight'])"
   ]
  },
  {
   "cell_type": "code",
   "execution_count": 11,
   "metadata": {},
   "outputs": [
    {
     "data": {
      "text/plain": [
       "<function matplotlib.pyplot.show(*args, **kw)>"
      ]
     },
     "execution_count": 11,
     "metadata": {},
     "output_type": "execute_result"
    },
    {
     "data": {
      "image/png": "[encoded data removed]",
      "text/plain": [
       "<Figure size 432x288 with 3 Axes>"
      ]
     },
     "metadata": {
      "needs_background": "light"
     },
     "output_type": "display_data"
    }
   ],
   "source": [
    "# plot from a contingency graph for exercise\n",
    "mosaic(health_df, ['Exercise per Week', 'Exercise Time'], gap=0.05);\n",
    "plt.show"
   ]
  },
  {
   "cell_type": "code",
   "execution_count": 19,
   "metadata": {},
   "outputs": [
    {
     "data": {
      "text/plain": [
       "count    220.000000\n",
       "mean      67.159091\n",
       "std        6.371108\n",
       "min       53.000000\n",
       "25%       64.000000\n",
       "50%       67.000000\n",
       "75%       70.000000\n",
       "max      137.000000\n",
       "Name: height, dtype: float64"
      ]
     },
     "execution_count": 19,
     "metadata": {},
     "output_type": "execute_result"
    }
   ],
   "source": [
    "health_df['height'] = health_df['Feet']*12 + health_df['Inches']\n",
    "health_df['height'].describe()"
   ]
  },
  {
   "cell_type": "code",
   "execution_count": 21,
   "metadata": {},
   "outputs": [
    {
     "data": {
      "text/plain": [
       "<matplotlib.collections.PathCollection at 0x1b5d07daef0>"
      ]
     },
     "execution_count": 21,
     "metadata": {},
     "output_type": "execute_result"
    },
    {
     "data": {
      "image/png": "[encoded data removed]",
      "text/plain": [
       "<Figure size 432x288 with 1 Axes>"
      ]
     },
     "metadata": {
      "needs_background": "light"
     },
     "output_type": "display_data"
    }
   ],
   "source": [
    "plt.scatter(health_df['Weight'], health_df['height'])"
   ]
  },
  {
   "cell_type": "code",
   "execution_count": null,
   "metadata": {},
   "outputs": [],
   "source": []
  },
  {
   "cell_type": "code",
   "execution_count": null,
   "metadata": {},
   "outputs": [],
   "source": []
  },
  {
   "cell_type": "code",
   "execution_count": null,
   "metadata": {},
   "outputs": [],
   "source": []
  },
  {
   "cell_type": "code",
   "execution_count": null,
   "metadata": {},
   "outputs": [],
   "source": []
  },
  {
   "cell_type": "code",
   "execution_count": null,
   "metadata": {},
   "outputs": [],
   "source": []
  },
  {
   "cell_type": "code",
   "execution_count": null,
   "metadata": {},
   "outputs": [],
   "source": []
  },
  {
   "cell_type": "code",
   "execution_count": null,
   "metadata": {},
   "outputs": [],
   "source": []
  },
  {
   "cell_type": "code",
   "execution_count": null,
   "metadata": {},
   "outputs": [],
   "source": []
  },
  {
   "cell_type": "code",
   "execution_count": null,
   "metadata": {},
   "outputs": [],
   "source": []
  }
 ],
 "metadata": {
  "kernelspec": {
   "display_name": "Python 3",
   "language": "python",
   "name": "python3"
  },
  "language_info": {
   "codemirror_mode": {
    "name": "ipython",
    "version": 3
   },
   "file_extension": ".py",
   "mimetype": "text/x-python",
   "name": "python",
   "nbconvert_exporter": "python",
   "pygments_lexer": "ipython3",
   "version": "3.7.1"
  }
 },
 "nbformat": 4,
 "nbformat_minor": 2
}
