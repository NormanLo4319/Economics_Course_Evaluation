{
 "cells": [
  {
   "cell_type": "markdown",
   "metadata": {},
   "source": [
    "# Student Course Survey Analysis"
   ]
  },
  {
   "cell_type": "code",
   "execution_count": 1,
   "metadata": {},
   "outputs": [],
   "source": [
    "import pandas as pd\n",
    "import numpy as np\n",
    "import scipy as sp\n",
    "import matplotlib.pyplot as plt\n",
    "import seaborn as sns\n",
    "sns.set(style=\"ticks\", color_codes=True)\n",
    "from statsmodels.graphics.mosaicplot import mosaic\n",
    "%matplotlib inline"
   ]
  },
  {
   "cell_type": "code",
   "execution_count": 2,
   "metadata": {
    "scrolled": true
   },
   "outputs": [
    {
     "data": {
      "text/html": [
       "<div>\n",
       "<style scoped>\n",
       "    .dataframe tbody tr th:only-of-type {\n",
       "        vertical-align: middle;\n",
       "    }\n",
       "\n",
       "    .dataframe tbody tr th {\n",
       "        vertical-align: top;\n",
       "    }\n",
       "\n",
       "    .dataframe thead th {\n",
       "        text-align: right;\n",
       "    }\n",
       "</style>\n",
       "<table border=\"1\" class=\"dataframe\">\n",
       "  <thead>\n",
       "    <tr style=\"text-align: right;\">\n",
       "      <th></th>\n",
       "      <th>id</th>\n",
       "      <th>School</th>\n",
       "      <th>Gender</th>\n",
       "      <th>Race</th>\n",
       "      <th>Local</th>\n",
       "      <th>Full Time</th>\n",
       "      <th>Future</th>\n",
       "      <th>Effectiveness</th>\n",
       "      <th>Online Supplement</th>\n",
       "      <th>Supplement Use</th>\n",
       "    </tr>\n",
       "  </thead>\n",
       "  <tbody>\n",
       "    <tr>\n",
       "      <th>0</th>\n",
       "      <td>916077115</td>\n",
       "      <td>San Francisco State University</td>\n",
       "      <td>Male</td>\n",
       "      <td>Asian</td>\n",
       "      <td>Local Student</td>\n",
       "      <td>Full time</td>\n",
       "      <td>Very helpful</td>\n",
       "      <td>Somewhat effective</td>\n",
       "      <td>Very helpful</td>\n",
       "      <td>No problem at all</td>\n",
       "    </tr>\n",
       "    <tr>\n",
       "      <th>1</th>\n",
       "      <td>916082731</td>\n",
       "      <td>San Francisco State University</td>\n",
       "      <td>Male</td>\n",
       "      <td>Hispanic</td>\n",
       "      <td>Local Student</td>\n",
       "      <td>Full time</td>\n",
       "      <td>Very helpful</td>\n",
       "      <td>Very effective</td>\n",
       "      <td>Very helpful</td>\n",
       "      <td>No problem at all</td>\n",
       "    </tr>\n",
       "    <tr>\n",
       "      <th>2</th>\n",
       "      <td>917218853</td>\n",
       "      <td>San Francisco State University</td>\n",
       "      <td>Male</td>\n",
       "      <td>White</td>\n",
       "      <td>Local Student</td>\n",
       "      <td>Full time</td>\n",
       "      <td>Very helpful</td>\n",
       "      <td>Very effective</td>\n",
       "      <td>Very helpful</td>\n",
       "      <td>Not too difficult</td>\n",
       "    </tr>\n",
       "    <tr>\n",
       "      <th>3</th>\n",
       "      <td>916777620</td>\n",
       "      <td>San Francisco State University</td>\n",
       "      <td>Male</td>\n",
       "      <td>Asian</td>\n",
       "      <td>Local Student</td>\n",
       "      <td>Full time</td>\n",
       "      <td>Very helpful</td>\n",
       "      <td>Very effective</td>\n",
       "      <td>Very helpful</td>\n",
       "      <td>Somewhat difficult</td>\n",
       "    </tr>\n",
       "    <tr>\n",
       "      <th>4</th>\n",
       "      <td>@00293246</td>\n",
       "      <td>San Francisco State University</td>\n",
       "      <td>Female</td>\n",
       "      <td>Asian</td>\n",
       "      <td>International Student</td>\n",
       "      <td>Full time</td>\n",
       "      <td>Somewhat helpful</td>\n",
       "      <td>Somewhat effective</td>\n",
       "      <td>Somewhat helpful</td>\n",
       "      <td>No problem at all</td>\n",
       "    </tr>\n",
       "  </tbody>\n",
       "</table>\n",
       "</div>"
      ],
      "text/plain": [
       "          id                          School  Gender      Race  \\\n",
       "0  916077115  San Francisco State University    Male     Asian   \n",
       "1  916082731  San Francisco State University    Male  Hispanic   \n",
       "2  917218853  San Francisco State University    Male     White   \n",
       "3  916777620  San Francisco State University    Male     Asian   \n",
       "4  @00293246  San Francisco State University  Female     Asian   \n",
       "\n",
       "                   Local  Full Time            Future       Effectiveness  \\\n",
       "0          Local Student  Full time      Very helpful  Somewhat effective   \n",
       "1          Local Student  Full time      Very helpful      Very effective   \n",
       "2          Local Student  Full time      Very helpful      Very effective   \n",
       "3          Local Student  Full time      Very helpful      Very effective   \n",
       "4  International Student  Full time  Somewhat helpful  Somewhat effective   \n",
       "\n",
       "  Online Supplement      Supplement Use  \n",
       "0      Very helpful   No problem at all  \n",
       "1      Very helpful   No problem at all  \n",
       "2      Very helpful   Not too difficult  \n",
       "3      Very helpful  Somewhat difficult  \n",
       "4  Somewhat helpful   No problem at all  "
      ]
     },
     "execution_count": 2,
     "metadata": {},
     "output_type": "execute_result"
    }
   ],
   "source": [
    "# Importing the Economics Survey data\n",
    "econ_df = pd.read_csv('./data/2016FA_ECON_Survey.csv')\n",
    "econ_df.head()\n"
   ]
  },
  {
   "cell_type": "code",
   "execution_count": 3,
   "metadata": {},
   "outputs": [
    {
     "name": "stdout",
     "output_type": "stream",
     "text": [
      "<class 'pandas.core.frame.DataFrame'>\n",
      "RangeIndex: 224 entries, 0 to 223\n",
      "Data columns (total 10 columns):\n",
      "id                   224 non-null object\n",
      "School               224 non-null object\n",
      "Gender               224 non-null object\n",
      "Race                 224 non-null object\n",
      "Local                224 non-null object\n",
      "Full Time            224 non-null object\n",
      "Future               224 non-null object\n",
      "Effectiveness        224 non-null object\n",
      "Online Supplement    224 non-null object\n",
      "Supplement Use       224 non-null object\n",
      "dtypes: object(10)\n",
      "memory usage: 17.6+ KB\n"
     ]
    }
   ],
   "source": [
    "econ_df.info()"
   ]
  },
  {
   "cell_type": "code",
   "execution_count": 4,
   "metadata": {},
   "outputs": [
    {
     "data": {
      "text/html": [
       "<div>\n",
       "<style scoped>\n",
       "    .dataframe tbody tr th:only-of-type {\n",
       "        vertical-align: middle;\n",
       "    }\n",
       "\n",
       "    .dataframe tbody tr th {\n",
       "        vertical-align: top;\n",
       "    }\n",
       "\n",
       "    .dataframe thead th {\n",
       "        text-align: right;\n",
       "    }\n",
       "</style>\n",
       "<table border=\"1\" class=\"dataframe\">\n",
       "  <thead>\n",
       "    <tr style=\"text-align: right;\">\n",
       "      <th></th>\n",
       "      <th>id</th>\n",
       "      <th>School</th>\n",
       "      <th>Gender</th>\n",
       "      <th>Race</th>\n",
       "      <th>Local</th>\n",
       "      <th>Full Time</th>\n",
       "      <th>Future</th>\n",
       "      <th>Effectiveness</th>\n",
       "      <th>Online Supplement</th>\n",
       "      <th>Supplement Use</th>\n",
       "    </tr>\n",
       "  </thead>\n",
       "  <tbody>\n",
       "    <tr>\n",
       "      <th>count</th>\n",
       "      <td>224</td>\n",
       "      <td>224</td>\n",
       "      <td>224</td>\n",
       "      <td>224</td>\n",
       "      <td>224</td>\n",
       "      <td>224</td>\n",
       "      <td>224</td>\n",
       "      <td>224</td>\n",
       "      <td>224</td>\n",
       "      <td>224</td>\n",
       "    </tr>\n",
       "    <tr>\n",
       "      <th>unique</th>\n",
       "      <td>224</td>\n",
       "      <td>3</td>\n",
       "      <td>2</td>\n",
       "      <td>5</td>\n",
       "      <td>2</td>\n",
       "      <td>2</td>\n",
       "      <td>4</td>\n",
       "      <td>4</td>\n",
       "      <td>4</td>\n",
       "      <td>4</td>\n",
       "    </tr>\n",
       "    <tr>\n",
       "      <th>top</th>\n",
       "      <td>W10609805</td>\n",
       "      <td>San Francisco State University</td>\n",
       "      <td>Male</td>\n",
       "      <td>Asian</td>\n",
       "      <td>Local Student</td>\n",
       "      <td>Full time</td>\n",
       "      <td>Somewhat helpful</td>\n",
       "      <td>Somewhat effective</td>\n",
       "      <td>Somewhat helpful</td>\n",
       "      <td>Not too difficult</td>\n",
       "    </tr>\n",
       "    <tr>\n",
       "      <th>freq</th>\n",
       "      <td>1</td>\n",
       "      <td>148</td>\n",
       "      <td>121</td>\n",
       "      <td>115</td>\n",
       "      <td>181</td>\n",
       "      <td>212</td>\n",
       "      <td>134</td>\n",
       "      <td>122</td>\n",
       "      <td>102</td>\n",
       "      <td>114</td>\n",
       "    </tr>\n",
       "  </tbody>\n",
       "</table>\n",
       "</div>"
      ],
      "text/plain": [
       "               id                          School Gender   Race  \\\n",
       "count         224                             224    224    224   \n",
       "unique        224                               3      2      5   \n",
       "top     W10609805  San Francisco State University   Male  Asian   \n",
       "freq            1                             148    121    115   \n",
       "\n",
       "                Local  Full Time            Future       Effectiveness  \\\n",
       "count             224        224               224                 224   \n",
       "unique              2          2                 4                   4   \n",
       "top     Local Student  Full time  Somewhat helpful  Somewhat effective   \n",
       "freq              181        212               134                 122   \n",
       "\n",
       "       Online Supplement     Supplement Use  \n",
       "count                224                224  \n",
       "unique                 4                  4  \n",
       "top     Somewhat helpful  Not too difficult  \n",
       "freq                 102                114  "
      ]
     },
     "execution_count": 4,
     "metadata": {},
     "output_type": "execute_result"
    }
   ],
   "source": [
    "econ_df.describe()"
   ]
  },
  {
   "cell_type": "code",
   "execution_count": 5,
   "metadata": {},
   "outputs": [
    {
     "name": "stdout",
     "output_type": "stream",
     "text": [
      "Total Counts Table: School\n",
      "San Francisco State University    148\n",
      "University of San Francisco        57\n",
      "City College of San Francisco      19\n",
      "Name: School, dtype: int64\n",
      "\n",
      "Proportion Table: School\n",
      "San Francisco State University    66.07%\n",
      "University of San Francisco       25.45%\n",
      "City College of San Francisco      8.48%\n",
      "Name: School, dtype: object\n",
      "-----------------------------------------\n",
      "Total Counts Table: Gender\n",
      "Male      121\n",
      "Female    103\n",
      "Name: Gender, dtype: int64\n",
      "\n",
      "Proportion Table: Gender\n",
      "Male      54.02%\n",
      "Female    45.98%\n",
      "Name: Gender, dtype: object\n",
      "-----------------------------------------\n",
      "Total Counts Table: Race\n",
      "Asian               115\n",
      "White                48\n",
      "Hispanic             45\n",
      "Others                8\n",
      "African American      8\n",
      "Name: Race, dtype: int64\n",
      "\n",
      "Proportion Table: Race\n",
      "Asian               51.34%\n",
      "White               21.43%\n",
      "Hispanic            20.09%\n",
      "Others               3.57%\n",
      "African American     3.57%\n",
      "Name: Race, dtype: object\n",
      "-----------------------------------------\n",
      "Total Counts Table: Local\n",
      "Local Student            181\n",
      "International Student     43\n",
      "Name: Local, dtype: int64\n",
      "\n",
      "Proportion Table: Local\n",
      "Local Student            80.8%\n",
      "International Student    19.2%\n",
      "Name: Local, dtype: object\n",
      "-----------------------------------------\n",
      "Total Counts Table: Full Time\n",
      "Full time    212\n",
      "Part time     12\n",
      "Name: Full Time, dtype: int64\n",
      "\n",
      "Proportion Table: Full Time\n",
      "Full time    94.64%\n",
      "Part time     5.36%\n",
      "Name: Full Time, dtype: object\n",
      "-----------------------------------------\n",
      "Total Counts Table: Future\n",
      "Somewhat helpful    134\n",
      "Very helpful         74\n",
      "Not too helpful      13\n",
      "Not related           3\n",
      "Name: Future, dtype: int64\n",
      "\n",
      "Proportion Table: Future\n",
      "Somewhat helpful    59.82%\n",
      "Very helpful        33.04%\n",
      "Not too helpful       5.8%\n",
      "Not related          1.34%\n",
      "Name: Future, dtype: object\n",
      "-----------------------------------------\n",
      "Total Counts Table: Effectiveness\n",
      "Somewhat effective                 122\n",
      "Very effective                      61\n",
      "Not too effective                   31\n",
      "Struggle learning in this class     10\n",
      "Name: Effectiveness, dtype: int64\n",
      "\n",
      "Proportion Table: Effectiveness\n",
      "Somewhat effective                 54.46%\n",
      "Very effective                     27.23%\n",
      "Not too effective                  13.84%\n",
      "Struggle learning in this class     4.46%\n",
      "Name: Effectiveness, dtype: object\n",
      "-----------------------------------------\n",
      "Total Counts Table: Online Supplement\n",
      "Somewhat helpful      102\n",
      "Very helpful           99\n",
      "Not too helpful        20\n",
      "Not helping at all      3\n",
      "Name: Online Supplement, dtype: int64\n",
      "\n",
      "Proportion Table: Online Supplement\n",
      "Somewhat helpful      45.54%\n",
      "Very helpful           44.2%\n",
      "Not too helpful        8.93%\n",
      "Not helping at all     1.34%\n",
      "Name: Online Supplement, dtype: object\n",
      "-----------------------------------------\n",
      "Total Counts Table: Supplement Use\n",
      "Not too difficult     114\n",
      "No problem at all      71\n",
      "Somewhat difficult     33\n",
      "Very difficult          6\n",
      "Name: Supplement Use, dtype: int64\n",
      "\n",
      "Proportion Table: Supplement Use\n",
      "Not too difficult     50.89%\n",
      "No problem at all      31.7%\n",
      "Somewhat difficult    14.73%\n",
      "Very difficult         2.68%\n",
      "Name: Supplement Use, dtype: object\n",
      "-----------------------------------------\n"
     ]
    }
   ],
   "source": [
    "# Report the repsonses in each column\n",
    "for i in econ_df.columns[1:10]:\n",
    "    print(f'Total Counts Table: {i}')\n",
    "    table = econ_df[i].value_counts()\n",
    "    print(table) \n",
    "    print('')\n",
    "    print(f'Proportion Table: {i}')\n",
    "    prop = econ_df[i].value_counts(normalize=True).mul(100).round(2).astype(str) + '%'\n",
    "    print(prop)\n",
    "    print('-----------------------------------------')\n",
    "    "
   ]
  },
  {
   "cell_type": "code",
   "execution_count": 72,
   "metadata": {},
   "outputs": [
    {
     "data": {
      "image/png": "[encoded data removed]",
      "text/plain": [
       "<Figure size 432x288 with 1 Axes>"
      ]
     },
     "metadata": {
      "needs_background": "light"
     },
     "output_type": "display_data"
    }
   ],
   "source": [
    "# Plot the demographic variables with horizontal bar plot\n",
    "ax = sns.countplot(y=econ_df.School)"
   ]
  },
  {
   "cell_type": "code",
   "execution_count": 73,
   "metadata": {},
   "outputs": [
    {
     "data": {
      "image/png": "[encoded data removed]",
      "text/plain": [
       "<Figure size 432x288 with 1 Axes>"
      ]
     },
     "metadata": {
      "needs_background": "light"
     },
     "output_type": "display_data"
    }
   ],
   "source": [
    "ax = sns.countplot(y=econ_df.Gender)"
   ]
  },
  {
   "cell_type": "code",
   "execution_count": 74,
   "metadata": {},
   "outputs": [
    {
     "data": {
      "image/png": "[encoded data removed]",
      "text/plain": [
       "<Figure size 432x288 with 1 Axes>"
      ]
     },
     "metadata": {
      "needs_background": "light"
     },
     "output_type": "display_data"
    }
   ],
   "source": [
    "ax = sns.countplot(y=econ_df.Race)"
   ]
  },
  {
   "cell_type": "code",
   "execution_count": 75,
   "metadata": {},
   "outputs": [
    {
     "data": {
      "image/png": "[encoded data removed]",
      "text/plain": [
       "<Figure size 432x288 with 1 Axes>"
      ]
     },
     "metadata": {
      "needs_background": "light"
     },
     "output_type": "display_data"
    }
   ],
   "source": [
    "ax = sns.countplot(y=econ_df.Local)"
   ]
  },
  {
   "cell_type": "code",
   "execution_count": 76,
   "metadata": {},
   "outputs": [
    {
     "data": {
      "image/png": "[encoded data removed]",
      "text/plain": [
       "<Figure size 432x288 with 1 Axes>"
      ]
     },
     "metadata": {
      "needs_background": "light"
     },
     "output_type": "display_data"
    }
   ],
   "source": [
    "ax = sns.countplot(y=econ_df['Full Time'])"
   ]
  },
  {
   "cell_type": "code",
   "execution_count": 16,
   "metadata": {},
   "outputs": [
    {
     "data": {
      "image/png": "[encoded data removed]",
      "text/plain": [
       "<Figure size 432x288 with 1 Axes>"
      ]
     },
     "metadata": {
      "needs_background": "light"
     },
     "output_type": "display_data"
    }
   ],
   "source": [
    "# Plotting the count of the response from each ethnicity group\n",
    "ax = sns.countplot(x=econ_df['Race'], hue=econ_df['Future'])"
   ]
  },
  {
   "cell_type": "code",
   "execution_count": 17,
   "metadata": {},
   "outputs": [
    {
     "data": {
      "image/png": "[encoded data removed]",
      "text/plain": [
       "<Figure size 432x288 with 1 Axes>"
      ]
     },
     "metadata": {
      "needs_background": "light"
     },
     "output_type": "display_data"
    }
   ],
   "source": [
    "ax = sns.countplot(x=econ_df['Race'], hue=econ_df['Effectiveness'])"
   ]
  },
  {
   "cell_type": "code",
   "execution_count": 19,
   "metadata": {},
   "outputs": [
    {
     "data": {
      "image/png": "[encoded data removed]",
      "text/plain": [
       "<Figure size 432x288 with 1 Axes>"
      ]
     },
     "metadata": {
      "needs_background": "light"
     },
     "output_type": "display_data"
    }
   ],
   "source": [
    "ax = sns.countplot(x=econ_df['Race'], hue=econ_df['Online Supplement'])"
   ]
  },
  {
   "cell_type": "code",
   "execution_count": 20,
   "metadata": {},
   "outputs": [
    {
     "data": {
      "image/png": "[encoded data removed]",
      "text/plain": [
       "<Figure size 432x288 with 1 Axes>"
      ]
     },
     "metadata": {
      "needs_background": "light"
     },
     "output_type": "display_data"
    }
   ],
   "source": [
    "ax = sns.countplot(x=econ_df['Race'], hue=econ_df['Supplement Use'])"
   ]
  },
  {
   "cell_type": "code",
   "execution_count": 12,
   "metadata": {},
   "outputs": [
    {
     "data": {
      "text/html": [
       "<div>\n",
       "<style scoped>\n",
       "    .dataframe tbody tr th:only-of-type {\n",
       "        vertical-align: middle;\n",
       "    }\n",
       "\n",
       "    .dataframe tbody tr th {\n",
       "        vertical-align: top;\n",
       "    }\n",
       "\n",
       "    .dataframe thead th {\n",
       "        text-align: right;\n",
       "    }\n",
       "</style>\n",
       "<table border=\"1\" class=\"dataframe\">\n",
       "  <thead>\n",
       "    <tr style=\"text-align: right;\">\n",
       "      <th>School</th>\n",
       "      <th>City College of San Francisco</th>\n",
       "      <th>San Francisco State University</th>\n",
       "      <th>University of San Francisco</th>\n",
       "    </tr>\n",
       "    <tr>\n",
       "      <th>Race</th>\n",
       "      <th></th>\n",
       "      <th></th>\n",
       "      <th></th>\n",
       "    </tr>\n",
       "  </thead>\n",
       "  <tbody>\n",
       "    <tr>\n",
       "      <th>African American</th>\n",
       "      <td>1</td>\n",
       "      <td>6</td>\n",
       "      <td>1</td>\n",
       "    </tr>\n",
       "    <tr>\n",
       "      <th>Asian</th>\n",
       "      <td>13</td>\n",
       "      <td>77</td>\n",
       "      <td>25</td>\n",
       "    </tr>\n",
       "    <tr>\n",
       "      <th>Hispanic</th>\n",
       "      <td>3</td>\n",
       "      <td>30</td>\n",
       "      <td>12</td>\n",
       "    </tr>\n",
       "    <tr>\n",
       "      <th>Others</th>\n",
       "      <td>1</td>\n",
       "      <td>4</td>\n",
       "      <td>3</td>\n",
       "    </tr>\n",
       "    <tr>\n",
       "      <th>White</th>\n",
       "      <td>1</td>\n",
       "      <td>31</td>\n",
       "      <td>16</td>\n",
       "    </tr>\n",
       "  </tbody>\n",
       "</table>\n",
       "</div>"
      ],
      "text/plain": [
       "School            City College of San Francisco  \\\n",
       "Race                                              \n",
       "African American                              1   \n",
       "Asian                                        13   \n",
       "Hispanic                                      3   \n",
       "Others                                        1   \n",
       "White                                         1   \n",
       "\n",
       "School            San Francisco State University  University of San Francisco  \n",
       "Race                                                                           \n",
       "African American                               6                            1  \n",
       "Asian                                         77                           25  \n",
       "Hispanic                                      30                           12  \n",
       "Others                                         4                            3  \n",
       "White                                         31                           16  "
      ]
     },
     "execution_count": 12,
     "metadata": {},
     "output_type": "execute_result"
    }
   ],
   "source": [
    "# Contingency Table\n",
    "pd.crosstab(econ_df['Race'], [econ_df['School']])"
   ]
  },
  {
   "cell_type": "code",
   "execution_count": 85,
   "metadata": {},
   "outputs": [
    {
     "data": {
      "text/plain": [
       "<function matplotlib.pyplot.show(*args, **kw)>"
      ]
     },
     "execution_count": 85,
     "metadata": {},
     "output_type": "execute_result"
    },
    {
     "data": {
      "image/png": "[encoded data removed]",
      "text/plain": [
       "<Figure size 432x288 with 3 Axes>"
      ]
     },
     "metadata": {
      "needs_background": "light"
     },
     "output_type": "display_data"
    }
   ],
   "source": [
    "# plot from a contingency table\n",
    "mosaic(econ_df, ['School', 'Race'], gap=0.05);\n",
    "plt.show"
   ]
  }
 ],
 "metadata": {
  "kernelspec": {
   "display_name": "Python 3",
   "language": "python",
   "name": "python3"
  },
  "language_info": {
   "codemirror_mode": {
    "name": "ipython",
    "version": 3
   },
   "file_extension": ".py",
   "mimetype": "text/x-python",
   "name": "python",
   "nbconvert_exporter": "python",
   "pygments_lexer": "ipython3",
   "version": "3.7.1"
  }
 },
 "nbformat": 4,
 "nbformat_minor": 2
}
